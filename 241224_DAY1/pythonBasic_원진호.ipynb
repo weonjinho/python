{
 "cells": [
  {
   "cell_type": "code",
   "execution_count": 1,
   "metadata": {},
   "outputs": [
    {
     "name": "stdout",
     "output_type": "stream",
     "text": [
      "hello world!\n"
     ]
    }
   ],
   "source": [
    "# === 파이썬 기초 ===\n",
    "# 1. print(\"hello world!\")\n",
    "print(\"hello world!\")"
   ]
  },
  {
   "cell_type": "code",
   "execution_count": 2,
   "metadata": {},
   "outputs": [
    {
     "name": "stdout",
     "output_type": "stream",
     "text": [
      "20\n"
     ]
    }
   ],
   "source": [
    "# 더하기\n",
    "# 10 + 10\n",
    "a = 10\n",
    "b = 10\n",
    "sum = a + b\n",
    "print(sum)"
   ]
  },
  {
   "cell_type": "code",
   "execution_count": 4,
   "metadata": {},
   "outputs": [
    {
     "name": "stdout",
     "output_type": "stream",
     "text": [
      "5\n"
     ]
    }
   ],
   "source": [
    "# 빼기\n",
    "# 10 -5\n",
    "aa = 10\n",
    "bb = 5\n",
    "minus = aa - bb \n",
    "print(minus)"
   ]
  },
  {
   "cell_type": "code",
   "execution_count": 5,
   "metadata": {},
   "outputs": [
    {
     "name": "stdout",
     "output_type": "stream",
     "text": [
      "50\n"
     ]
    }
   ],
   "source": [
    "# 곱하기\n",
    "# 10 * 5\n",
    "c = 10\n",
    "d = 5\n",
    "multi = c * d\n",
    "print(multi)"
   ]
  },
  {
   "cell_type": "code",
   "execution_count": 6,
   "metadata": {},
   "outputs": [
    {
     "name": "stdout",
     "output_type": "stream",
     "text": [
      "20.0\n"
     ]
    }
   ],
   "source": [
    "# 나누기\n",
    "# 100/5\n",
    "cc = 100\n",
    "dd = 5\n",
    "div = cc / dd\n",
    "print(div)"
   ]
  },
  {
   "cell_type": "code",
   "execution_count": 9,
   "metadata": {},
   "outputs": [
    {
     "name": "stdout",
     "output_type": "stream",
     "text": [
      "100\n"
     ]
    }
   ],
   "source": [
    "# 제곱은 ** 를 사용\n",
    "# 10**2\n",
    "ab = 10\n",
    "cd = 2\n",
    "squ = ab ** cd\n",
    "print(squ)"
   ]
  },
  {
   "cell_type": "code",
   "execution_count": 11,
   "metadata": {},
   "outputs": [
    {
     "name": "stdout",
     "output_type": "stream",
     "text": [
      "200\n"
     ]
    }
   ],
   "source": [
    "# (2+3)*((3+5)*5)\n",
    "q = 2\n",
    "w = 3\n",
    "e = 5\n",
    "result = (q + w) * ((w + e) * e)\n",
    "print(result)"
   ]
  },
  {
   "cell_type": "code",
   "execution_count": 12,
   "metadata": {},
   "outputs": [
    {
     "name": "stdout",
     "output_type": "stream",
     "text": [
      "2\n"
     ]
    }
   ],
   "source": [
    "# 절대값 계산\n",
    "# a = 3\n",
    "# b = 5\n",
    "a = 3\n",
    "b = 5\n",
    "print(abs(a-b))"
   ]
  },
  {
   "cell_type": "code",
   "execution_count": 13,
   "metadata": {},
   "outputs": [
    {
     "name": "stdout",
     "output_type": "stream",
     "text": [
      "8\n"
     ]
    }
   ],
   "source": [
    "# === 변수 ===\n",
    "# a = 8\n",
    "a = 8\n",
    "print(a)"
   ]
  },
  {
   "cell_type": "code",
   "execution_count": 14,
   "metadata": {},
   "outputs": [
    {
     "name": "stdout",
     "output_type": "stream",
     "text": [
      "22.59814049586777\n"
     ]
    }
   ],
   "source": [
    "# bmi 산출 예시 (몸무게 w : kg, 키 h : cm)\n",
    "w = 70\n",
    "h = 176\n",
    "hm = h / 100\n",
    "bmi = w / hm ** 2\n",
    "print(bmi)"
   ]
  },
  {
   "cell_type": "code",
   "execution_count": 15,
   "metadata": {},
   "outputs": [
    {
     "name": "stdout",
     "output_type": "stream",
     "text": [
      "당신의 비만도는 정상입니다. 지금과 같은 생활을 유지해 주세요!\n"
     ]
    }
   ],
   "source": [
    "# 비만도 측정 예시(if문)\n",
    "if 35 <= bmi:\n",
    "    print('당신의 비만도는 고도비만입니다. 건강을 위해 매우 많이 노력해 주세요!')\n",
    "elif 30 <= bmi and bmi < 35:\n",
    "    print('당신의 비만도는 2단계 비만입니다. 건강을 위해 매우 많이 노력해 주세요!')\n",
    "elif 25 <= bmi and bmi < 30:\n",
    "    print('당신의 비만도는 1단계 비만입니다. 건강을 위해 노력해 주세요!')\n",
    "elif 23 <= bmi and bmi < 25:\n",
    "    print('당신의 비만도는 과체중입니다. 건강을 위해 조금 노력이 필요합니다!')\n",
    "elif 18.5 <= bmi and bmi < 23:\n",
    "    print('당신의 비만도는 정상입니다. 지금과 같은 생활을 유지해 주세요!')\n",
    "elif bmi < 18.5:\n",
    "    print('당신의 비만도는 저체중입니다. 조금은 체중 증가가 필요합니다.')\n",
    "    "
   ]
  },
  {
   "cell_type": "code",
   "execution_count": 16,
   "metadata": {},
   "outputs": [
    {
     "name": "stdout",
     "output_type": "stream",
     "text": [
      "<class 'int'>\n"
     ]
    }
   ],
   "source": [
    "# 데이터 타입 (Data Type)\n",
    "# 정수 타입\n",
    "i = 1\n",
    "print(type(i))"
   ]
  },
  {
   "cell_type": "code",
   "execution_count": 17,
   "metadata": {},
   "outputs": [
    {
     "name": "stdout",
     "output_type": "stream",
     "text": [
      "<class 'float'>\n"
     ]
    }
   ],
   "source": [
    "# 실수 타입\n",
    "f = 2.5\n",
    "print(type(f))"
   ]
  },
  {
   "cell_type": "markdown",
   "metadata": {},
   "source": [
    "### 제곱, 제곱근 함수"
   ]
  },
  {
   "cell_type": "code",
   "execution_count": 4,
   "metadata": {},
   "outputs": [
    {
     "name": "stdout",
     "output_type": "stream",
     "text": [
      "8.0\n"
     ]
    }
   ],
   "source": [
    "# 1. 파이썬 제곱 함수 pow\n",
    "# import math\n",
    "# 함수 모양 : math.pow(x, y)\n",
    "# 함수 설명 : math.pow(x, y) 함수는 x의 y 거듭제곱 (x의 y승)을 반환합니다.\n",
    "# 1. 이 함수의 반환형은 언제나 float 타입이빈다.\n",
    "# 2. 주의할 점은 x가 음수이면서 y가 실수를 집어넣은 경우에는 Error 가 나옵니다. ( math.pow(-2, 3.2) 이런 식은 에러 )\n",
    "# 3. math.pow(1.0, y)는 항상 1.0입니다. 1의 n제곱은 무조건 1일 것입니다.\n",
    "# 4. math.pow(x, 0.0)은 항상 1.0입니다. n의 0제곱은 무조건 1입니다.\n",
    "import math\n",
    "result = math.pow(2,3)\n",
    "print(result)"
   ]
  },
  {
   "cell_type": "code",
   "execution_count": 3,
   "metadata": {},
   "outputs": [
    {
     "name": "stdout",
     "output_type": "stream",
     "text": [
      "2.0\n"
     ]
    }
   ],
   "source": [
    "# 2. 파이썬 제곱근 함수 sqrt\n",
    "# import math\n",
    "# 함수 모양 : math.sqrt(x)\n",
    "# 함수 설명 : math.sqrt(x)함수는 x의 제곱근을 반환합니다. \n",
    "# 1. 이 함수의 반환형 또한 float 타입입니다.\n",
    "# 2. math.sqrt(음수)가 들어오게 된다면 ERROR 가 발생합니다. ( math.sqrt(-2) 에러 )\n",
    "import math\n",
    "result = math.sqrt(4)\n",
    "print(result)\n"
   ]
  },
  {
   "cell_type": "code",
   "execution_count": 18,
   "metadata": {},
   "outputs": [
    {
     "name": "stdout",
     "output_type": "stream",
     "text": [
      "<class 'str'>\n"
     ]
    }
   ],
   "source": [
    "# 문자열 타입\n",
    "s = '1'\n",
    "print(type(s))"
   ]
  },
  {
   "cell_type": "code",
   "execution_count": 19,
   "metadata": {},
   "outputs": [
    {
     "name": "stdout",
     "output_type": "stream",
     "text": [
      "<class 'str'>\n"
     ]
    }
   ],
   "source": [
    "s = \"1\"\n",
    "print(type(s))"
   ]
  },
  {
   "cell_type": "code",
   "execution_count": 20,
   "metadata": {},
   "outputs": [
    {
     "name": "stdout",
     "output_type": "stream",
     "text": [
      "<class 'float'>\n"
     ]
    }
   ],
   "source": [
    "# type(10/3)\n",
    "print(type(10/3))"
   ]
  },
  {
   "cell_type": "code",
   "execution_count": 22,
   "metadata": {},
   "outputs": [
    {
     "ename": "TypeError",
     "evalue": "unsupported operand type(s) for /: 'str' and 'int'",
     "output_type": "error",
     "traceback": [
      "\u001b[1;31m---------------------------------------------------------------------------\u001b[0m",
      "\u001b[1;31mTypeError\u001b[0m                                 Traceback (most recent call last)",
      "Cell \u001b[1;32mIn[22], line 3\u001b[0m\n\u001b[0;32m      1\u001b[0m \u001b[38;5;66;03m# 문자열 '5' 를 숫자 3으로 나누면 에러 발생(TypeError)\u001b[39;00m\n\u001b[0;32m      2\u001b[0m \u001b[38;5;66;03m# '5' / 3\u001b[39;00m\n\u001b[1;32m----> 3\u001b[0m \u001b[38;5;28mprint\u001b[39m(\u001b[38;5;124;43m'\u001b[39;49m\u001b[38;5;124;43m5\u001b[39;49m\u001b[38;5;124;43m'\u001b[39;49m\u001b[43m \u001b[49m\u001b[38;5;241;43m/\u001b[39;49m\u001b[43m \u001b[49m\u001b[38;5;241;43m3\u001b[39;49m)\n",
      "\u001b[1;31mTypeError\u001b[0m: unsupported operand type(s) for /: 'str' and 'int'"
     ]
    }
   ],
   "source": [
    "# 문자열 '5' 를 숫자 3으로 나누면 에러 발생(TypeError)\n",
    "# '5' / 3\n",
    "print('5' / 3)"
   ]
  },
  {
   "cell_type": "code",
   "execution_count": 24,
   "metadata": {},
   "outputs": [
    {
     "name": "stdout",
     "output_type": "stream",
     "text": [
      "1.6666666666666667\n"
     ]
    }
   ],
   "source": [
    "# int('5') / 3\n",
    "print(int('5') / 3)"
   ]
  },
  {
   "cell_type": "code",
   "execution_count": 26,
   "metadata": {},
   "outputs": [
    {
     "name": "stdout",
     "output_type": "stream",
     "text": [
      "<class 'bool'>\n"
     ]
    }
   ],
   "source": [
    "# 불린\n",
    "print(type(True))"
   ]
  },
  {
   "cell_type": "code",
   "execution_count": 27,
   "metadata": {},
   "outputs": [
    {
     "name": "stdout",
     "output_type": "stream",
     "text": [
      "<class 'bool'>\n"
     ]
    }
   ],
   "source": [
    "print(type(False))"
   ]
  },
  {
   "cell_type": "code",
   "execution_count": 29,
   "metadata": {},
   "outputs": [
    {
     "name": "stdout",
     "output_type": "stream",
     "text": [
      "0\n",
      "1\n",
      "2\n",
      "3\n",
      "4\n",
      "5\n",
      "6\n",
      "7\n",
      "8\n",
      "9\n"
     ]
    }
   ],
   "source": [
    "# 제어구조\n",
    "# for 문\n",
    "# a = range(10) # 0에서 9까지 정수 목록 반환\n",
    "for a in range(0,10):\n",
    "    print(a)"
   ]
  },
  {
   "cell_type": "code",
   "execution_count": 31,
   "metadata": {},
   "outputs": [
    {
     "name": "stdout",
     "output_type": "stream",
     "text": [
      "1\n",
      "2\n",
      "3\n",
      "4\n",
      "5\n",
      "6\n",
      "7\n",
      "8\n",
      "9\n",
      "10\n"
     ]
    }
   ],
   "source": [
    "# for i in range(1,11):\n",
    "#      print(i)\n",
    "for i in range(1,11):\n",
    "     print(i)"
   ]
  },
  {
   "cell_type": "code",
   "execution_count": 32,
   "metadata": {},
   "outputs": [
    {
     "name": "stdout",
     "output_type": "stream",
     "text": [
      "2\n",
      "4\n",
      "6\n",
      "8\n",
      "10\n"
     ]
    }
   ],
   "source": [
    "# numbers = [1, 2, 3, 4, 5]\n",
    "# for num in numbers:\n",
    "#   print(num * 2)\n",
    "numbers = [1, 2, 3, 4, 5]\n",
    "for num in numbers:\n",
    "  print(num * 2)"
   ]
  },
  {
   "cell_type": "code",
   "execution_count": 34,
   "metadata": {},
   "outputs": [
    {
     "name": "stdout",
     "output_type": "stream",
     "text": [
      "현재 값: 1\n",
      "현재 값: 2\n",
      "현재 값: 3\n",
      "현재 값: 4\n",
      "현재 값: 5\n"
     ]
    }
   ],
   "source": [
    "# range(시작값, 종료값, 증가값)\n",
    "# for i in range(1, 6):\n",
    "#   print(f\"현재 값: {i}\")\n",
    "for i in range(1, 6):\n",
    "  print(f\"현재 값: {i}\")"
   ]
  },
  {
   "cell_type": "code",
   "execution_count": 35,
   "metadata": {},
   "outputs": [
    {
     "name": "stdout",
     "output_type": "stream",
     "text": [
      "55\n"
     ]
    }
   ],
   "source": [
    "# 1부터 10까지 합계\n",
    "# sum = 0\n",
    "# for i in range(1, 11):\n",
    "#   sum = sum + i\n",
    "# print(sum)\n",
    "# 1부터 10까지 합계\n",
    "sum = 0\n",
    "for i in range(1, 11):\n",
    "  sum = sum + i\n",
    "print(sum)"
   ]
  },
  {
   "cell_type": "code",
   "execution_count": 36,
   "metadata": {},
   "outputs": [
    {
     "name": "stdout",
     "output_type": "stream",
     "text": [
      "3628800\n"
     ]
    }
   ],
   "source": [
    "# 1부터 n까지 곱하는 예제\n",
    "# n = 10\n",
    "# f = 1\n",
    "# for i in range(n):\n",
    "#   f = f*(i + 1)\n",
    "# print(f)\n",
    "n = 10\n",
    "f = 1\n",
    "for i in range(n):\n",
    "  f = f*(i + 1)\n",
    "print(f)"
   ]
  },
  {
   "cell_type": "code",
   "execution_count": 37,
   "metadata": {},
   "outputs": [
    {
     "name": "stdout",
     "output_type": "stream",
     "text": [
      "1\n",
      "2\n",
      "3\n",
      "4\n",
      "5\n",
      "6\n",
      "7\n",
      "8\n",
      "9\n",
      "10\n"
     ]
    }
   ],
   "source": [
    "# while 문\n",
    "# i = 0\n",
    "# while i < 10:\n",
    "#   i = i + 1\n",
    "#   print(i)\n",
    "i = 0\n",
    "while i < 10:\n",
    "  i = i + 1\n",
    "  print(i)"
   ]
  },
  {
   "cell_type": "code",
   "execution_count": 38,
   "metadata": {},
   "outputs": [
    {
     "name": "stdout",
     "output_type": "stream",
     "text": [
      "테스트에 합격하셨습니다.\n"
     ]
    }
   ],
   "source": [
    "# if 문\n",
    "score = 85\n",
    "if score > 80:\n",
    "    print(\"테스트에 합격하셨습니다.\")"
   ]
  },
  {
   "cell_type": "code",
   "execution_count": 40,
   "metadata": {},
   "outputs": [
    {
     "name": "stdout",
     "output_type": "stream",
     "text": [
      "홀수입니다.\n"
     ]
    }
   ],
   "source": [
    "# number = 5\n",
    "# if number % 2 == 0:\n",
    "#   print(\"짝수입니다.\")\n",
    "# else:\n",
    "#   print(\"홀수입니다.\")\n",
    "number = 5\n",
    "if number % 2 == 0:\n",
    "  print(\"짝수입니다.\")\n",
    "else:\n",
    "  print(\"홀수입니다.\")"
   ]
  },
  {
   "cell_type": "code",
   "execution_count": 41,
   "metadata": {},
   "outputs": [
    {
     "name": "stdout",
     "output_type": "stream",
     "text": [
      "B학점\n"
     ]
    }
   ],
   "source": [
    "# score = 85\n",
    "# if score >= 90:\n",
    "#   print(\"A학점\")\n",
    "# elif score >= 80:\n",
    "#   print(\"B학점\")\n",
    "# else:\n",
    "#   print(\"C학점\")\n",
    "score = 85\n",
    "if score >= 90:\n",
    "  print(\"A학점\")\n",
    "elif score >= 80:\n",
    "  print(\"B학점\")\n",
    "else:\n",
    "  print(\"C학점\")"
   ]
  },
  {
   "cell_type": "code",
   "execution_count": 44,
   "metadata": {},
   "outputs": [
    {
     "name": "stdout",
     "output_type": "stream",
     "text": [
      "조건을 만족합니다.\n"
     ]
    }
   ],
   "source": [
    "# x, y = 10, 20\n",
    "# if x>5 and y<30:\n",
    "#   print(\"조건을 만족합니다.\")\n",
    "x, y = 10, 20\n",
    "if x>5 and y<30:\n",
    "  print(\"조건을 만족합니다.\")"
   ]
  },
  {
   "cell_type": "code",
   "execution_count": 46,
   "metadata": {},
   "outputs": [
    {
     "name": "stdout",
     "output_type": "stream",
     "text": [
      "b가 a보다 크거나 같다\n"
     ]
    }
   ],
   "source": [
    "# a = 5\n",
    "# b = 10\n",
    "# if a <= b:\n",
    "#   print('b가 a보다 크거나 같다')\n",
    "# else:\n",
    "#   print('a가 크다')\n",
    "a = 5\n",
    "b = 10\n",
    "if a <= b:\n",
    "  print('b가 a보다 크거나 같다')\n",
    "else:\n",
    "  print('a가 크다')"
   ]
  },
  {
   "cell_type": "code",
   "execution_count": 48,
   "metadata": {},
   "outputs": [
    {
     "name": "stdout",
     "output_type": "stream",
     "text": [
      "c와 d는 같다\n"
     ]
    }
   ],
   "source": [
    "# c = 20\n",
    "# d = 20\n",
    "# if c == d:\n",
    "#   print('c와 d는 같다')\n",
    "# elif c < d:\n",
    "#   print('c는 d보다 작다')\n",
    "# else:\n",
    "#   print('c는 d보다 크다')\n",
    "c = 20\n",
    "d = 20\n",
    "if c == d:\n",
    "  print('c와 d는 같다')\n",
    "elif c < d:\n",
    "  print('c는 d보다 작다')\n",
    "else:\n",
    "  print('c는 d보다 크다')"
   ]
  },
  {
   "cell_type": "code",
   "execution_count": 52,
   "metadata": {},
   "outputs": [
    {
     "name": "stdout",
     "output_type": "stream",
     "text": [
      "False\n"
     ]
    }
   ],
   "source": [
    "# if 4 == '4':\n",
    "#   print(True)\n",
    "# else:\n",
    "#   print(False)\n",
    "if 4 == '4':\n",
    "  print(True)\n",
    "else:\n",
    "  print(False)"
   ]
  },
  {
   "cell_type": "code",
   "execution_count": 53,
   "metadata": {},
   "outputs": [
    {
     "data": {
      "text/plain": [
       "list"
      ]
     },
     "execution_count": 53,
     "metadata": {},
     "output_type": "execute_result"
    }
   ],
   "source": [
    "# type([0, 1, 2, 3, 4, 5])\n",
    "type([0, 1, 2, 3, 4, 5])"
   ]
  },
  {
   "cell_type": "code",
   "execution_count": 55,
   "metadata": {},
   "outputs": [
    {
     "name": "stdout",
     "output_type": "stream",
     "text": [
      "0\n",
      "a\n",
      "c\n"
     ]
    }
   ],
   "source": [
    "# 배열 index는 0부터 시작\n",
    "# print([0, 1, 2, 3][0]) # 리스트의 인덱스 0에 해당하는 값 불러오기\n",
    "# print(['a', 'b', 'c'][0]) # 리스트의 인덱스 0에 해당하는 값 불러오기\n",
    "# print(['a', 'b', 'c'][2]) # 리스트의 인덱스 2에 해당하는 값 불러오기\n",
    "print([0, 1, 2, 3][0]) \n",
    "print(['a', 'b', 'c'][0])\n",
    "print(['a', 'b', 'c'][2])"
   ]
  },
  {
   "cell_type": "code",
   "execution_count": 56,
   "metadata": {},
   "outputs": [
    {
     "name": "stdout",
     "output_type": "stream",
     "text": [
      "배\n"
     ]
    }
   ],
   "source": [
    "# list_fruit = ['사과', '포도', '복숭아', '배']\n",
    "# print(list_fruit[3])\n",
    "list_fruit = ['사과', '포도', '복숭아', '배']\n",
    "print(list_fruit[3])"
   ]
  },
  {
   "cell_type": "code",
   "execution_count": 58,
   "metadata": {},
   "outputs": [
    {
     "name": "stdout",
     "output_type": "stream",
     "text": [
      "['사과', '포도', '복숭아', '배', '귤', '귤']\n"
     ]
    }
   ],
   "source": [
    "# list_fruit.append('귤')\n",
    "# print(list_fruit)\n",
    "list_fruit.append('귤')\n",
    "print(list_fruit)"
   ]
  },
  {
   "cell_type": "code",
   "execution_count": 60,
   "metadata": {},
   "outputs": [
    {
     "name": "stdout",
     "output_type": "stream",
     "text": [
      "['사과', '포도', '복숭아', '배']\n"
     ]
    }
   ],
   "source": [
    "# list_fruit.remove('귤')\n",
    "# print(list_fruit)\n",
    "list_fruit.remove('귤')\n",
    "print(list_fruit)"
   ]
  },
  {
   "cell_type": "code",
   "execution_count": 62,
   "metadata": {},
   "outputs": [
    {
     "name": "stdout",
     "output_type": "stream",
     "text": [
      "[3, 1, 4, 1, 5, 9]\n"
     ]
    }
   ],
   "source": [
    "# 리스트\n",
    "numbers = [3, 1, 4, 1, 5]\n",
    "\n",
    "# 요소 추가 (append)\n",
    "numbers.append(9)\n",
    "print(numbers)"
   ]
  },
  {
   "cell_type": "code",
   "execution_count": 63,
   "metadata": {},
   "outputs": [
    {
     "name": "stdout",
     "output_type": "stream",
     "text": [
      "[3, 4, 1, 5, 9]\n"
     ]
    }
   ],
   "source": [
    "# 요소 제거 (remove)\n",
    "# numbers.remove(1)  # 첫 번째로 발견되는 1을 제거\n",
    "# print(numbers)\n",
    "numbers.remove(1)\n",
    "print(numbers)"
   ]
  },
  {
   "cell_type": "code",
   "execution_count": 65,
   "metadata": {},
   "outputs": [
    {
     "name": "stdout",
     "output_type": "stream",
     "text": [
      "[3, 4, 9]\n",
      "5\n"
     ]
    }
   ],
   "source": [
    "# 특정 위치의 요소 추출 및 삭제 (pop)\n",
    "# removed_item = numbers.pop(2)  # 인덱스 2의 요소를 추출하고 삭제\n",
    "# print(numbers)\n",
    "# print(removed_item)\n",
    "removed_item = numbers.pop(2)\n",
    "print(numbers)\n",
    "print(removed_item)"
   ]
  },
  {
   "cell_type": "code",
   "execution_count": 66,
   "metadata": {},
   "outputs": [
    {
     "name": "stdout",
     "output_type": "stream",
     "text": [
      "[9, 4, 3]\n"
     ]
    }
   ],
   "source": [
    "# 리스트 뒤집기 (reverse)\n",
    "# numbers.reverse()\n",
    "# print(numbers)\n",
    "numbers.reverse()\n",
    "print(numbers)"
   ]
  },
  {
   "cell_type": "code",
   "execution_count": null,
   "metadata": {},
   "outputs": [],
   "source": [
    "# 리스트 요소 개수 세기 (count)\n",
    "count = numbers.count(5) # 5의 갯수\n",
    "print(count)"
   ]
  }
 ],
 "metadata": {
  "kernelspec": {
   "display_name": ".venv",
   "language": "python",
   "name": "python3"
  },
  "language_info": {
   "codemirror_mode": {
    "name": "ipython",
    "version": 3
   },
   "file_extension": ".py",
   "mimetype": "text/x-python",
   "name": "python",
   "nbconvert_exporter": "python",
   "pygments_lexer": "ipython3",
   "version": "3.12.8"
  }
 },
 "nbformat": 4,
 "nbformat_minor": 2
}
