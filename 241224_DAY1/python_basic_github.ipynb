{
 "cells": [
  {
   "cell_type": "markdown",
   "metadata": {},
   "source": [
    "# 파이썬 기본문법\n",
    "|항목|요소|정의|설명|예시|\n",
    "|:---:|:---:|:---:|:---:|:---:|\n",
    "|변수||데이터를 저장하는 메모리 공간|숫자, 문자|x = 5<br/>x = \"사과\"|\n",
    "|자료형|정수형<br/>(int)|소수점이 없는 숫자|산술 연산 가능|x = 5|\n",
    "|자료형|실수형<br/>(float)|소수점이 있는 숫자|근사값 처리|x = 3.14|\n",
    "|자료형|문자열<br/>(str)|문자들의 집합|큰 따옴표 또는 작은 따옴표|s = \"사과\" 또는 s = '사과'|\n",
    "|자료형|볼린<br/>(bool)|참/거짓 값|True/False 만 가능|b = True|\n",
    "|자료형|리스트<br/>(list)|순서가 있는 집합|수정 가능, 중복 허용|lst = [1,2,3]|\n",
    "|자료형|튜플<br/>(tuple)|순서가 있는 집합|수정 불가, 중복 허용|tup = (1,2,3)|\n",
    "|자료형|딕서너리<br/>(dict)|키-값 쌍의 집합|키는 중복 불가|d = {\"a\" : 1}"
   ]
  },
  {
   "cell_type": "markdown",
   "metadata": {},
   "source": [
    "<table>\n",
    "    <tr>\n",
    "        <th>항목</th>\n",
    "        <th>요소</th>\n",
    "        <th>정의</th>\n",
    "        <th>설명</th>\n",
    "        <th>예시</th>\n",
    "    </tr>\n",
    "    <tr>\n",
    "        <td rowspan=\"3\">조건문</td>\n",
    "        <td>if</td>\n",
    "        <td>조건에 따른 실행</td>\n",
    "        <td>조건이 참일 때 실행</td>\n",
    "        <td>if x > 0</td>\n",
    "    </tr>\n",
    "    <tr>\n",
    "        <td>elif</td>\n",
    "        <td>다중 조건 실행</td>\n",
    "        <td>이전 조건이 거짓일 때 확인</td>\n",
    "        <td>elif x == 0</td>\n",
    "    </tr>\n",
    "    <tr>\n",
    "        <td>else</td>\n",
    "        <td>기본 실행</td>\n",
    "        <td>모든 조건이 거짓일 때 실행</td>\n",
    "        <td>else:</td>\n",
    "    </tr>\n",
    "    <tr>\n",
    "        <td rowspan=\"3\">반복문</td>\n",
    "        <td>for</td>\n",
    "        <td>정해진 횟수 반복</td>\n",
    "        <td>시퀀스 객체 순회</td>\n",
    "        <td>for i in range(3):</td>\n",
    "    </tr>\n",
    "    <tr>\n",
    "        <td>while</td>\n",
    "        <td>조건부 반복</td>\n",
    "        <td>조건이 참인 동안 반복</td>\n",
    "        <td>while x > 0:</td>\n",
    "    </tr>\n",
    "    <tr>\n",
    "        <td>제어문</td>\n",
    "        <td>반복 제어</td>\n",
    "        <td>break, continue 사용</td>\n",
    "        <td>break</td>\n",
    "    </tr>\n",
    "</table>\n"
   ]
  },
  {
   "cell_type": "markdown",
   "metadata": {},
   "source": []
  }
 ],
 "metadata": {
  "kernelspec": {
   "display_name": ".venv",
   "language": "python",
   "name": "python3"
  },
  "language_info": {
   "name": "python",
   "version": "3.12.8"
  }
 },
 "nbformat": 4,
 "nbformat_minor": 2
}
