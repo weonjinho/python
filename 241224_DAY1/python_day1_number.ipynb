{
 "cells": [
  {
   "cell_type": "code",
   "execution_count": 1,
   "metadata": {},
   "outputs": [
    {
     "name": "stdout",
     "output_type": "stream",
     "text": [
      "15\n"
     ]
    }
   ],
   "source": [
    "# 두 숫자를 더하기\n",
    "a = 10\n",
    "b = 5\n",
    "sum_result = a + b\n",
    "print(sum_result)"
   ]
  },
  {
   "cell_type": "code",
   "execution_count": 2,
   "metadata": {},
   "outputs": [
    {
     "name": "stdout",
     "output_type": "stream",
     "text": [
      "5\n"
     ]
    }
   ],
   "source": [
    "# 두 숫자를 빼기\n",
    "sub_result = a - b\n",
    "print(sub_result)"
   ]
  },
  {
   "cell_type": "code",
   "execution_count": 3,
   "metadata": {},
   "outputs": [
    {
     "name": "stdout",
     "output_type": "stream",
     "text": [
      "50\n"
     ]
    }
   ],
   "source": [
    "# 두 숫자를 곱하기\n",
    "mul_result = a * b\n",
    "print(mul_result)"
   ]
  },
  {
   "cell_type": "code",
   "execution_count": 4,
   "metadata": {},
   "outputs": [
    {
     "name": "stdout",
     "output_type": "stream",
     "text": [
      "2.0\n"
     ]
    }
   ],
   "source": [
    "# 두 숫자를 나누기\n",
    "div_result = a / b\n",
    "print(div_result)"
   ]
  },
  {
   "cell_type": "code",
   "execution_count": 5,
   "metadata": {},
   "outputs": [
    {
     "name": "stdout",
     "output_type": "stream",
     "text": [
      "2\n",
      "0\n"
     ]
    }
   ],
   "source": [
    "# 나눗셈의 몫과 나머지\n",
    "quotient = a // b # 몫\n",
    "remainder = a % b # 나머지\n",
    "print(quotient)\n",
    "print(remainder)"
   ]
  },
  {
   "cell_type": "code",
   "execution_count": 6,
   "metadata": {},
   "outputs": [
    {
     "name": "stdout",
     "output_type": "stream",
     "text": [
      "제곱: 100000\n"
     ]
    }
   ],
   "source": [
    "# 제곱\n",
    "power_result = a ** b\n",
    "print(\"제곱:\", power_result)"
   ]
  },
  {
   "cell_type": "code",
   "execution_count": 4,
   "metadata": {},
   "outputs": [
    {
     "name": "stdout",
     "output_type": "stream",
     "text": [
      "Hello-Alice\n"
     ]
    }
   ],
   "source": [
    "# 문자열 문제\n",
    "\n",
    "# 문자열 선언\n",
    "greeting = \"Hello\"\n",
    "name = \"Alice\"\n",
    "print(greeting + \"-\" + name)"
   ]
  },
  {
   "cell_type": "code",
   "execution_count": 8,
   "metadata": {},
   "outputs": [
    {
     "name": "stdout",
     "output_type": "stream",
     "text": [
      "문자열 연결: Hello, Alice!\n"
     ]
    }
   ],
   "source": [
    "# 문자열 연결\n",
    "full_greeting = greeting + \", \" + name + \"!\"\n",
    "print(\"문자열 연결:\", full_greeting)"
   ]
  },
  {
   "cell_type": "code",
   "execution_count": 9,
   "metadata": {},
   "outputs": [
    {
     "name": "stdout",
     "output_type": "stream",
     "text": [
      "문자열 반복: HelloHelloHello\n"
     ]
    }
   ],
   "source": [
    "# 문자열 반복\n",
    "repeat_greeting = greeting * 3\n",
    "print(\"문자열 반복:\", repeat_greeting)"
   ]
  },
  {
   "cell_type": "code",
   "execution_count": 10,
   "metadata": {},
   "outputs": [
    {
     "name": "stdout",
     "output_type": "stream",
     "text": [
      "문자열 길이: 5\n"
     ]
    }
   ],
   "source": [
    "# 문자열 길이\n",
    "greeting_length = len(greeting)\n",
    "print(\"문자열 길이:\", greeting_length)"
   ]
  },
  {
   "cell_type": "code",
   "execution_count": 11,
   "metadata": {},
   "outputs": [
    {
     "name": "stdout",
     "output_type": "stream",
     "text": [
      "대문자 변환: HELLO\n",
      "소문자 변환: hello\n"
     ]
    }
   ],
   "source": [
    "# 문자열 대소문자 변환\n",
    "upper_greeting = greeting.upper()\n",
    "lower_greeting = greeting.lower()\n",
    "print(\"대문자 변환:\", upper_greeting)\n",
    "print(\"소문자 변환:\", lower_greeting)"
   ]
  },
  {
   "cell_type": "code",
   "execution_count": 12,
   "metadata": {},
   "outputs": [
    {
     "name": "stdout",
     "output_type": "stream",
     "text": [
      "문자열 자르기: ell\n"
     ]
    }
   ],
   "source": [
    "# 문자열 자르기\n",
    "substring = greeting[1:4] # 인덱스 1부터 3까지 자르기\n",
    "print(\"문자열 자르기:\", substring)"
   ]
  },
  {
   "cell_type": "code",
   "execution_count": 13,
   "metadata": {},
   "outputs": [
    {
     "name": "stdout",
     "output_type": "stream",
     "text": [
      "문자'e'의 위치: 1\n"
     ]
    }
   ],
   "source": [
    "# 문자열 찾기\n",
    "find_result = greeting.find(\"e\") # 'e'의 위치 찾기\n",
    "print(\"문자'e'의 위치:\", find_result)"
   ]
  },
  {
   "cell_type": "code",
   "execution_count": 14,
   "metadata": {},
   "outputs": [
    {
     "name": "stdout",
     "output_type": "stream",
     "text": [
      "문자'e'의 위치: 1\n"
     ]
    }
   ],
   "source": [
    "# 문자열 찾기\n",
    "find_result = greeting.find(\"e\")\n",
    "print(\"문자'e'의 위치:\", find_result)"
   ]
  },
  {
   "cell_type": "code",
   "execution_count": 15,
   "metadata": {},
   "outputs": [
    {
     "name": "stdout",
     "output_type": "stream",
     "text": [
      "공잭 제거: Hello, World!\n"
     ]
    }
   ],
   "source": [
    "# 문자열 공백 제거\n",
    "message = \"  Hello, World!  \"\n",
    "trimmed_message = message.strip()\n",
    "print(\"공잭 제거:\", trimmed_message)"
   ]
  },
  {
   "cell_type": "code",
   "execution_count": 16,
   "metadata": {},
   "outputs": [
    {
     "name": "stdout",
     "output_type": "stream",
     "text": [
      "문자열에'Hello'가 포함된 경우: True\n"
     ]
    }
   ],
   "source": [
    "# 문자열 포함 여부 확인\n",
    "contains_hello = \"Hello\" in message\n",
    "print(\"문자열에'Hello'가 포함된 경우:\", contains_hello)"
   ]
  },
  {
   "cell_type": "code",
   "execution_count": 17,
   "metadata": {},
   "outputs": [
    {
     "name": "stdout",
     "output_type": "stream",
     "text": [
      "Today's date is 24/12/2024.\n"
     ]
    }
   ],
   "source": [
    "# 문자열 포맷팅 문제\n",
    "year = 2024\n",
    "month = 12\n",
    "day = 24\n",
    "print(f\"Today's date is {day}/{month}/{year}.\")"
   ]
  },
  {
   "cell_type": "code",
   "execution_count": 18,
   "metadata": {},
   "outputs": [],
   "source": [
    "# 불린\n",
    "\n",
    "# 불린 값 생성\n",
    "a = True\n",
    "b = False"
   ]
  },
  {
   "cell_type": "code",
   "execution_count": 19,
   "metadata": {},
   "outputs": [
    {
     "name": "stdout",
     "output_type": "stream",
     "text": [
      "False\n",
      "True\n",
      "False\n"
     ]
    }
   ],
   "source": [
    "# 논리 연산자 예제\n",
    "print(a and b)  # False (둘 다 true일 때만 True)\n",
    "print(a or b)   # True (하나리도 true이면 True)\n",
    "print(not a)    # False (True 의 반대)"
   ]
  },
  {
   "cell_type": "code",
   "execution_count": 20,
   "metadata": {},
   "outputs": [
    {
     "name": "stdout",
     "output_type": "stream",
     "text": [
      "False\n",
      "True\n",
      "True\n",
      "True\n"
     ]
    }
   ],
   "source": [
    "# 비교 연산자 예제\n",
    "x = 10\n",
    "y = 20\n",
    "print(x > y)\n",
    "print(x < y)\n",
    "print(x == 10)\n",
    "print(x != y)"
   ]
  },
  {
   "cell_type": "code",
   "execution_count": 21,
   "metadata": {},
   "outputs": [
    {
     "name": "stdout",
     "output_type": "stream",
     "text": [
      "x는 y보다 작습니다.\n"
     ]
    }
   ],
   "source": [
    "# 조건문에서 불린 사용\n",
    "if x < y:\n",
    "    print(\"x는 y보다 작습니다.\")\n",
    "else:\n",
    "    print(\"x는 y보다 크거나 같습니다.\")"
   ]
  },
  {
   "cell_type": "code",
   "execution_count": 22,
   "metadata": {},
   "outputs": [],
   "source": [
    "# 리스트 생성\n",
    "fruits = [\"apple\", \"banana\", \"cherry\"]"
   ]
  },
  {
   "cell_type": "code",
   "execution_count": 23,
   "metadata": {},
   "outputs": [
    {
     "name": "stdout",
     "output_type": "stream",
     "text": [
      "apple\n",
      "cherry\n"
     ]
    }
   ],
   "source": [
    "# 요소 접근\n",
    "print(fruits[0])\n",
    "print(fruits[-1])"
   ]
  },
  {
   "cell_type": "code",
   "execution_count": 24,
   "metadata": {},
   "outputs": [
    {
     "name": "stdout",
     "output_type": "stream",
     "text": [
      "['apple', 'blueberry', 'cherry']\n"
     ]
    }
   ],
   "source": [
    "# 리스트 수정\n",
    "fruits[1] = \"blueberry\"\n",
    "print(fruits)"
   ]
  },
  {
   "cell_type": "code",
   "execution_count": 25,
   "metadata": {},
   "outputs": [
    {
     "name": "stdout",
     "output_type": "stream",
     "text": [
      "['apple', 'blueberry', 'cherry', 'orange']\n"
     ]
    }
   ],
   "source": [
    "# 요소 추가\n",
    "fruits.append(\"orange\")   # 마지막에 추가\n",
    "print(fruits)"
   ]
  },
  {
   "cell_type": "code",
   "execution_count": 26,
   "metadata": {},
   "outputs": [
    {
     "name": "stdout",
     "output_type": "stream",
     "text": [
      "['apple', 'blueberry', 'orange']\n"
     ]
    }
   ],
   "source": [
    "# 요소 제거\n",
    "fruits.remove(\"cherry\")\n",
    "print(fruits)"
   ]
  },
  {
   "cell_type": "code",
   "execution_count": 28,
   "metadata": {},
   "outputs": [
    {
     "name": "stdout",
     "output_type": "stream",
     "text": [
      "['apple', 'blueberry']\n"
     ]
    }
   ],
   "source": [
    "# 마지막 요소 제거\n",
    "fruits.pop()\n",
    "print(fruits)"
   ]
  },
  {
   "cell_type": "code",
   "execution_count": 29,
   "metadata": {},
   "outputs": [
    {
     "name": "stdout",
     "output_type": "stream",
     "text": [
      "2\n"
     ]
    }
   ],
   "source": [
    "# 리스트 길이 확인\n",
    "print(len(fruits))"
   ]
  },
  {
   "cell_type": "code",
   "execution_count": 31,
   "metadata": {},
   "outputs": [
    {
     "name": "stdout",
     "output_type": "stream",
     "text": [
      "apple\n",
      "blueberry\n"
     ]
    }
   ],
   "source": [
    "# 리스트 반복문\n",
    "for fruit in fruits:\n",
    "    print(fruit)"
   ]
  },
  {
   "cell_type": "code",
   "execution_count": 32,
   "metadata": {},
   "outputs": [
    {
     "name": "stdout",
     "output_type": "stream",
     "text": [
      "['apple', 'blueberry']\n"
     ]
    }
   ],
   "source": [
    "# 리스트 정렬\n",
    "fruits.sort()\n",
    "print(fruits)"
   ]
  },
  {
   "cell_type": "code",
   "execution_count": 33,
   "metadata": {},
   "outputs": [
    {
     "name": "stdout",
     "output_type": "stream",
     "text": [
      "['blueberry', 'apple']\n"
     ]
    }
   ],
   "source": [
    "# 리스트 역순 정렬\n",
    "fruits.reverse()\n",
    "print(fruits)"
   ]
  },
  {
   "cell_type": "code",
   "execution_count": 36,
   "metadata": {},
   "outputs": [
    {
     "name": "stdout",
     "output_type": "stream",
     "text": [
      "1\n"
     ]
    }
   ],
   "source": [
    "# 리스트 요소 개수 세기(count)\n",
    "count = fruits.count(\"apple\")\n",
    "print(count)"
   ]
  },
  {
   "cell_type": "code",
   "execution_count": 37,
   "metadata": {},
   "outputs": [
    {
     "name": "stdout",
     "output_type": "stream",
     "text": [
      "['blueberry', 'apple']\n"
     ]
    }
   ],
   "source": [
    "# 리스트 복사(copy)\n",
    "new_fruits = fruits.copy()\n",
    "print(new_fruits)"
   ]
  },
  {
   "cell_type": "code",
   "execution_count": 40,
   "metadata": {},
   "outputs": [
    {
     "name": "stdout",
     "output_type": "stream",
     "text": [
      "['blueberry', 'apple', 'banana', 'melon', 'grape', 'banana', 'melon', 'grape', 'banana', 'melon', 'grape']\n"
     ]
    }
   ],
   "source": [
    "# 리스트 확장 (extend)\n",
    "fruits.extend([\"banana\",\"melon\",\"grape\"])\n",
    "print(fruits)"
   ]
  },
  {
   "cell_type": "code",
   "execution_count": 41,
   "metadata": {},
   "outputs": [
    {
     "name": "stdout",
     "output_type": "stream",
     "text": [
      "['blueberry', 'apple', 'banana', 'melon', 'grape', 'banana', 'melon', 'grape', 'banana', 'melon', 'grape', 'Mango', 'Peach', 'Pineapple', 'Pear', 'Watermelon']\n"
     ]
    }
   ],
   "source": [
    "# 리스트 합치기 (concatenate)\n",
    "another_list = [\"Mango\", \"Peach\", \"Pineapple\", \"Pear\", \"Watermelon\"]\n",
    "combined_list = fruits + another_list\n",
    "print(combined_list)"
   ]
  },
  {
   "cell_type": "code",
   "execution_count": 42,
   "metadata": {},
   "outputs": [
    {
     "name": "stdout",
     "output_type": "stream",
     "text": [
      "3\n"
     ]
    }
   ],
   "source": [
    "# 튜플\n",
    "# 특정 값의 개수 세기 (count)\n",
    "print(fruits.count(\"banana\"))"
   ]
  },
  {
   "cell_type": "code",
   "execution_count": 43,
   "metadata": {},
   "outputs": [
    {
     "name": "stdout",
     "output_type": "stream",
     "text": [
      "2\n"
     ]
    }
   ],
   "source": [
    "print(fruits.index(\"banana\"))"
   ]
  },
  {
   "cell_type": "code",
   "execution_count": 44,
   "metadata": {},
   "outputs": [],
   "source": [
    "# 딕셔너리\n",
    "\n",
    "# 딕셔너리 생성\n",
    "student = {\n",
    "    \"name\" : \"Alice\",\n",
    "    \"age\" : 20,\n",
    "    \"grade\" : \"A\"\n",
    "}"
   ]
  },
  {
   "cell_type": "code",
   "execution_count": 45,
   "metadata": {},
   "outputs": [
    {
     "name": "stdout",
     "output_type": "stream",
     "text": [
      "Alice\n",
      "20\n"
     ]
    }
   ],
   "source": [
    "# 값 접근\n",
    "print(student[\"name\"])\n",
    "print(student.get(\"age\"))"
   ]
  },
  {
   "cell_type": "code",
   "execution_count": 46,
   "metadata": {},
   "outputs": [
    {
     "name": "stdout",
     "output_type": "stream",
     "text": [
      "{'name': 'Alice', 'age': 21, 'grade': 'A', 'major': 'Computer Science'}\n"
     ]
    }
   ],
   "source": [
    "# 키 추가 및 값 변경\n",
    "student[\"major\"] = \"Computer Science\"   # 새로운 키 추가\n",
    "student[\"age\"] = 21 # 값 변경\n",
    "print(student)"
   ]
  },
  {
   "cell_type": "code",
   "execution_count": 47,
   "metadata": {},
   "outputs": [
    {
     "name": "stdout",
     "output_type": "stream",
     "text": [
      "{'name': 'Alice', 'age': 21, 'major': 'Computer Science'}\n"
     ]
    }
   ],
   "source": [
    "# 키 삭제\n",
    "del student[\"grade\"]  # 'grade' 삭제\n",
    "print(student)"
   ]
  },
  {
   "cell_type": "code",
   "execution_count": 49,
   "metadata": {},
   "outputs": [
    {
     "name": "stdout",
     "output_type": "stream",
     "text": [
      "True\n",
      "False\n"
     ]
    }
   ],
   "source": [
    "# 키 확인\n",
    "print(\"name\" in student)\n",
    "print(\"grade\" in student)"
   ]
  },
  {
   "cell_type": "code",
   "execution_count": 52,
   "metadata": {},
   "outputs": [
    {
     "name": "stdout",
     "output_type": "stream",
     "text": [
      "name : Alice\n",
      "age : 21\n",
      "major : Computer Science\n"
     ]
    }
   ],
   "source": [
    "# 반복문 사용\n",
    "for key in student:\n",
    "    print(key, \":\", student[key])"
   ]
  },
  {
   "cell_type": "code",
   "execution_count": 54,
   "metadata": {},
   "outputs": [
    {
     "name": "stdout",
     "output_type": "stream",
     "text": [
      "dict_keys(['name', 'age', 'major'])\n",
      "dict_values(['Alice', 21, 'Computer Science'])\n",
      "dict_items([('name', 'Alice'), ('age', 21), ('major', 'Computer Science')])\n"
     ]
    }
   ],
   "source": [
    "# 모든 키와 값 조회\n",
    "print(student.keys())\n",
    "print(student.values())\n",
    "print(student.items())"
   ]
  },
  {
   "cell_type": "code",
   "execution_count": 55,
   "metadata": {},
   "outputs": [
    {
     "name": "stdout",
     "output_type": "stream",
     "text": [
      "3\n"
     ]
    }
   ],
   "source": [
    "# 딕셔너리 길이 확인\n",
    "print(len(student))"
   ]
  },
  {
   "cell_type": "code",
   "execution_count": 56,
   "metadata": {},
   "outputs": [
    {
     "name": "stdout",
     "output_type": "stream",
     "text": [
      "{}\n"
     ]
    }
   ],
   "source": [
    "# 딕셔너리 초기화\n",
    "student.clear()\n",
    "print(student)"
   ]
  },
  {
   "cell_type": "code",
   "execution_count": null,
   "metadata": {},
   "outputs": [],
   "source": [
    "\n"
   ]
  }
 ],
 "metadata": {
  "kernelspec": {
   "display_name": ".venv",
   "language": "python",
   "name": "python3"
  },
  "language_info": {
   "codemirror_mode": {
    "name": "ipython",
    "version": 3
   },
   "file_extension": ".py",
   "mimetype": "text/x-python",
   "name": "python",
   "nbconvert_exporter": "python",
   "pygments_lexer": "ipython3",
   "version": "3.12.8"
  }
 },
 "nbformat": 4,
 "nbformat_minor": 2
}
