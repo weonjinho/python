{
 "cells": [
  {
   "cell_type": "code",
   "execution_count": 1,
   "metadata": {},
   "outputs": [
    {
     "name": "stdout",
     "output_type": "stream",
     "text": [
      "1\n",
      "2\n",
      "3\n",
      "4\n",
      "5\n"
     ]
    }
   ],
   "source": [
    "# 1. 리스트의 각 요소 출력하기\n",
    "# 리스트 numbers = [1, 2, 3, 4, 5]가 주어졌을 때, for문을 사용하여 리스트의 각 요소를 하나씩 출력하는 프로그램을 작성하세요.\n",
    "numbers = [1, 2, 3, 4, 5]\n",
    "for i in numbers:\n",
    "    print(i)"
   ]
  },
  {
   "cell_type": "code",
   "execution_count": 6,
   "metadata": {},
   "outputs": [
    {
     "name": "stdout",
     "output_type": "stream",
     "text": [
      "150\n"
     ]
    }
   ],
   "source": [
    "# 2. 리스트의 합 구하기\n",
    "# 리스트 numbers = [10, 20, 30, 40, 50]가 주어졌을 때, for문을 사용하여 리스트에 있는 모든 숫자의 합을 구하는 프로그램을 작성하세요.\n",
    "sum = 0\n",
    "numbers = [10, 20, 30, 40, 50]\n",
    "for ii in numbers:\n",
    "   sum += ii\n",
    "print(sum)"
   ]
  },
  {
   "cell_type": "code",
   "execution_count": 7,
   "metadata": {},
   "outputs": [
    {
     "name": "stdout",
     "output_type": "stream",
     "text": [
      "홀수: 1\n",
      "홀수: 3\n",
      "홀수: 5\n",
      "홀수: 7\n",
      "홀수: 9\n"
     ]
    }
   ],
   "source": [
    "# 3. 홀수만 출력하기\n",
    "# 리스트 numbers = [1, 2, 3, 4, 5, 6, 7, 8, 9]가 주어졌을 때, for문을 사용하여 홀수만 출력하는 프로그램을 작성하세요.\n",
    "numbers = [1, 2, 3, 4, 5, 6, 7, 8, 9]\n",
    "for i in numbers:\n",
    "    if(i % 2 == 0):\n",
    "        continue\n",
    "    else:\n",
    "        print(\"홀수:\", i)"
   ]
  },
  {
   "cell_type": "code",
   "execution_count": 8,
   "metadata": {},
   "outputs": [
    {
     "name": "stdout",
     "output_type": "stream",
     "text": [
      "2  *  1  =  2\n",
      "2  *  2  =  4\n",
      "2  *  3  =  6\n",
      "2  *  4  =  8\n",
      "2  *  5  =  10\n",
      "2  *  6  =  12\n",
      "2  *  7  =  14\n",
      "2  *  8  =  16\n",
      "2  *  9  =  18\n",
      "3  *  1  =  3\n",
      "3  *  2  =  6\n",
      "3  *  3  =  9\n",
      "3  *  4  =  12\n",
      "3  *  5  =  15\n",
      "3  *  6  =  18\n",
      "3  *  7  =  21\n",
      "3  *  8  =  24\n",
      "3  *  9  =  27\n",
      "4  *  1  =  4\n",
      "4  *  2  =  8\n",
      "4  *  3  =  12\n",
      "4  *  4  =  16\n",
      "4  *  5  =  20\n",
      "4  *  6  =  24\n",
      "4  *  7  =  28\n",
      "4  *  8  =  32\n",
      "4  *  9  =  36\n",
      "5  *  1  =  5\n",
      "5  *  2  =  10\n",
      "5  *  3  =  15\n",
      "5  *  4  =  20\n",
      "5  *  5  =  25\n",
      "5  *  6  =  30\n",
      "5  *  7  =  35\n",
      "5  *  8  =  40\n",
      "5  *  9  =  45\n",
      "6  *  1  =  6\n",
      "6  *  2  =  12\n",
      "6  *  3  =  18\n",
      "6  *  4  =  24\n",
      "6  *  5  =  30\n",
      "6  *  6  =  36\n",
      "6  *  7  =  42\n",
      "6  *  8  =  48\n",
      "6  *  9  =  54\n",
      "7  *  1  =  7\n",
      "7  *  2  =  14\n",
      "7  *  3  =  21\n",
      "7  *  4  =  28\n",
      "7  *  5  =  35\n",
      "7  *  6  =  42\n",
      "7  *  7  =  49\n",
      "7  *  8  =  56\n",
      "7  *  9  =  63\n",
      "8  *  1  =  8\n",
      "8  *  2  =  16\n",
      "8  *  3  =  24\n",
      "8  *  4  =  32\n",
      "8  *  5  =  40\n",
      "8  *  6  =  48\n",
      "8  *  7  =  56\n",
      "8  *  8  =  64\n",
      "8  *  9  =  72\n",
      "9  *  1  =  9\n",
      "9  *  2  =  18\n",
      "9  *  3  =  27\n",
      "9  *  4  =  36\n",
      "9  *  5  =  45\n",
      "9  *  6  =  54\n",
      "9  *  7  =  63\n",
      "9  *  8  =  72\n",
      "9  *  9  =  81\n"
     ]
    }
   ],
   "source": [
    "# 4. 구구단 출력하기\n",
    "# for문을 사용하여 2단부터 9단까지 구구단을 출력하는 프로그램을 작성하세요.\n",
    "for i in range(2,10):\n",
    "    for j in range(1,10):\n",
    "        print(i,\" * \",j,\" = \",(i*j))"
   ]
  },
  {
   "cell_type": "code",
   "execution_count": 9,
   "metadata": {},
   "outputs": [
    {
     "name": "stdout",
     "output_type": "stream",
     "text": [
      "문자열 길이:  5\n",
      "문자열 길이:  6\n",
      "문자열 길이:  6\n",
      "문자열 길이:  4\n"
     ]
    }
   ],
   "source": [
    "# 5. 리스트의 문자열 길이 구하기\n",
    "# 리스트 words = [\"apple\", \"banana\", \"cherry\", \"date\"]가 주어졌을 때, 각 문자열의 길이를 출력하는 프로그램을 작성하세요.\n",
    "words = [\"apple\", \"banana\", \"cherry\", \"date\"]\n",
    "for i in words:\n",
    "    print(\"문자열 길이: \", len(i))"
   ]
  }
 ],
 "metadata": {
  "kernelspec": {
   "display_name": ".venv",
   "language": "python",
   "name": "python3"
  },
  "language_info": {
   "codemirror_mode": {
    "name": "ipython",
    "version": 3
   },
   "file_extension": ".py",
   "mimetype": "text/x-python",
   "name": "python",
   "nbconvert_exporter": "python",
   "pygments_lexer": "ipython3",
   "version": "3.12.8"
  }
 },
 "nbformat": 4,
 "nbformat_minor": 2
}
