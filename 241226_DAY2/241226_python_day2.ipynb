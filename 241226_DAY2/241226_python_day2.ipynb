{
 "cells": [
  {
   "cell_type": "code",
   "execution_count": 4,
   "metadata": {},
   "outputs": [
    {
     "name": "stdout",
     "output_type": "stream",
     "text": [
      "안녕하세요!\n"
     ]
    }
   ],
   "source": [
    "# 매개변수가 없는 함수\n",
    "def greet():\n",
    "    print(\"안녕하세요!\")\n",
    "greet() # 출력 : 안녕하세요"
   ]
  },
  {
   "cell_type": "code",
   "execution_count": 6,
   "metadata": {},
   "outputs": [
    {
     "name": "stdout",
     "output_type": "stream",
     "text": [
      "8\n"
     ]
    }
   ],
   "source": [
    "# 매개변수가 있는 함수\n",
    "def add(a,b):\n",
    "    return a + b\n",
    "result = add(3,5)\n",
    "print(result) # 출력 : 8"
   ]
  },
  {
   "cell_type": "code",
   "execution_count": 13,
   "metadata": {},
   "outputs": [
    {
     "name": "stdout",
     "output_type": "stream",
     "text": [
      "안녕하세요,나는 기본값입니다!\n",
      "안녕하세요,준호님!\n"
     ]
    }
   ],
   "source": [
    "# 기본값 매개변수 사용\n",
    "def greet(name = \"나는 기본값입니다\"):\n",
    "    print(f\"안녕하세요,{name}!\")\n",
    "\n",
    "greet()\n",
    "greet(\"준호님\")"
   ]
  },
  {
   "cell_type": "code",
   "execution_count": 23,
   "metadata": {},
   "outputs": [
    {
     "name": "stdout",
     "output_type": "stream",
     "text": [
      "(2, 3, 4)\n",
      "2\n",
      "3\n",
      "4\n",
      "24\n"
     ]
    }
   ],
   "source": [
    "# 가변 매개변수 사용\n",
    "# *args : 임의의 개수의 숫자를 받아들임\n",
    "def multiply(*args):\n",
    "    result = 1\n",
    "    print(args)\n",
    "    for num in args:\n",
    "        print(num)\n",
    "        result *= num\n",
    "    return result\n",
    "print(multiply(2,3,4))"
   ]
  },
  {
   "cell_type": "code",
   "execution_count": 27,
   "metadata": {},
   "outputs": [
    {
     "name": "stdout",
     "output_type": "stream",
     "text": [
      "양수입니다.\n",
      "음수입니다.\n",
      "0입니다.\n"
     ]
    }
   ],
   "source": [
    "# if 문 활용 예시(1)\n",
    "def check_number(num):\n",
    "    \"\"\"숫자가 양수, 음수, 또는 0인지 확인\"\"\"\n",
    "    if num > 0:\n",
    "        return \"양수입니다.\"\n",
    "    elif num < 0:\n",
    "        return \"음수입니다.\"\n",
    "    else:\n",
    "        return \"0입니다.\"\n",
    "print(check_number(5))\n",
    "print(check_number(-3))\n",
    "print(check_number(0))"
   ]
  },
  {
   "cell_type": "code",
   "execution_count": 29,
   "metadata": {},
   "outputs": [
    {
     "name": "stdout",
     "output_type": "stream",
     "text": [
      "로그인 성공\n",
      "로그인 실패\n"
     ]
    }
   ],
   "source": [
    "# if 문 활용 예시(2)\n",
    "def login_check(username, password):\n",
    "    \"\"\"사용자 이름과 비밀번호를 확인\"\"\"\n",
    "    if username == \"admin\" and password == \"1234\":\n",
    "        return \"로그인 성공\"\n",
    "    else:\n",
    "        return \"로그인 실패\"\n",
    "print(login_check(\"admin\", \"1234\"))\n",
    "print(login_check(\"admin\", \"5678\"))"
   ]
  },
  {
   "cell_type": "code",
   "execution_count": 31,
   "metadata": {},
   "outputs": [
    {
     "name": "stdout",
     "output_type": "stream",
     "text": [
      "9\n"
     ]
    }
   ],
   "source": [
    "# for 문 활용 예시(1)\n",
    "# 리스트에서 최대값을 찾는 함수\n",
    "def find_max(numbers):\n",
    "    max_num = numbers[0]\n",
    "    for num in numbers:\n",
    "        if num > max_num:\n",
    "            max_num = num\n",
    "    return max_num\n",
    "numbers = [1,5,3,9,2]\n",
    "print(find_max(numbers))"
   ]
  },
  {
   "cell_type": "code",
   "execution_count": 33,
   "metadata": {},
   "outputs": [
    {
     "name": "stdout",
     "output_type": "stream",
     "text": [
      "[2, 4, 6, 8, 10]\n"
     ]
    }
   ],
   "source": [
    "# for 문 활용 예시(2)\n",
    "# 주어진 범위 내의 짝수만 반환하는 함수\n",
    "def get_even_numbers(start, end):\n",
    "    even_nums = []\n",
    "    for num in range(start, end + 1):\n",
    "        if num % 2 == 0:\n",
    "            even_nums.append(num)\n",
    "    return even_nums\n",
    "print(get_even_numbers(1,10))"
   ]
  },
  {
   "cell_type": "code",
   "execution_count": 36,
   "metadata": {},
   "outputs": [
    {
     "name": "stdout",
     "output_type": "stream",
     "text": [
      "1개월 차:2,000,000원 저축\n",
      "2개월 차:4,000,000원 저축\n",
      "3개월 차:6,000,000원 저축\n",
      "4개월 차:8,000,000원 저축\n",
      "5개월 차:10,000,000원 저축\n",
      "5개월 만에 목표 금액 달성!\n"
     ]
    }
   ],
   "source": [
    "# while 문 활용 예시(1)\n",
    "# 목표 금액 모을 때까지 저축하는 시뮬레이션 함수\n",
    "def saving_simulation(target_amount, monthly_saving):\n",
    "    total = 0\n",
    "    months = 0\n",
    "    while total < target_amount:\n",
    "        total += monthly_saving\n",
    "        months += 1\n",
    "        print(f\"{months}개월 차:{total:,}원 저축\")\n",
    "    return f\"{months}개월 만에 목표 금액 달성!\"\n",
    "print(saving_simulation(10000000, 2000000))"
   ]
  },
  {
   "cell_type": "code",
   "execution_count": 4,
   "metadata": {},
   "outputs": [
    {
     "name": "stdout",
     "output_type": "stream",
     "text": [
      "90\n",
      "더 작은 숫자입니다!\n",
      "45\n",
      "정답입니다! 2번 만에 맞추셨습니다.\n"
     ]
    }
   ],
   "source": [
    "# while 문 활용 예시(2)\n",
    "# 숫자 맞추기 게임 함수\n",
    "def guess_number(answer):\n",
    "    count = 0\n",
    "    guess = None # 아무 값도 할당하지 않은 상태\n",
    "    while guess != answer: \n",
    "        guess = int(input(\"1부터 100사이의 숫자를 맞춰보세요:\"))\n",
    "        print(guess)\n",
    "        count += 1\n",
    "        if guess < answer:\n",
    "            print(\"더 큰 숫자입니다!\")\n",
    "        elif guess > answer:\n",
    "            print(\"더 작은 숫자입니다!\")\n",
    "    return f\"정답입니다! {count}번 만에 맞추셨습니다.\"\n",
    "print(guess_number(45))"
   ]
  },
  {
   "cell_type": "code",
   "execution_count": 6,
   "metadata": {},
   "outputs": [
    {
     "name": "stdout",
     "output_type": "stream",
     "text": [
      "=== 데이터 정규화 예제 ===\n",
      "원본 데이터: [10, 20, 30, 40, 50]\n",
      "정규화된 데이터 :  [0.0, 0.25, 0.5, 0.75, 1.0]\n"
     ]
    }
   ],
   "source": [
    "# 응용예시(1)\n",
    "# 데이터 정규화 함수 (cf. 정규화 : 서로 다른 범위의 값들을 비교할 때, 값들을 동일한 기준으로 맞춤) \n",
    "# 정규화 **** 중요.\n",
    "def normalize_data(numbers):\n",
    "    \"\"\"\n",
    "    데이터를 0~1 사이의 값으로 정규화하는 함수\n",
    "    정규화 = (값 - 최소값)/(최대값 - 최소값)\n",
    "    매개변수 : \n",
    "        numbers : 정규화할 숫자 리스트\n",
    "    반환값 : \n",
    "        정규화된 데이터 리스트 (0~1 사이의 값)\n",
    "        \n",
    "    정규화 : 균일한 값을 만드는 과정을 정규화라고 한다.\n",
    "    \"\"\"\n",
    "    min_value = min(numbers)    # 데이터의 최소값\n",
    "    \n",
    "    max_value = max(numbers)    # 데이터의 최대값\n",
    "    normalized = []             # 정규화된 값을 저장할 리스트\n",
    "    \n",
    "    for num in numbers:\n",
    "        # 정규화 공식 적용\n",
    "        norm_value = (num - min_value) / (max_value - min_value)\n",
    "        normalized.append(norm_value)\n",
    "    return normalized\n",
    "data = [10, 20, 30, 40, 50]\n",
    "print(\"=== 데이터 정규화 예제 ===\")\n",
    "print(\"원본 데이터:\", data)\n",
    "normalized = normalize_data(data)\n",
    "print(\"정규화된 데이터 : \", normalized)\n",
    "        "
   ]
  },
  {
   "cell_type": "code",
   "execution_count": 7,
   "metadata": {},
   "outputs": [],
   "source": [
    "# 1. 함수 선언\n",
    "# 영화 추천\n"
   ]
  },
  {
   "cell_type": "code",
   "execution_count": 11,
   "metadata": {},
   "outputs": [
    {
     "name": "stdout",
     "output_type": "stream",
     "text": [
      "=== 데이터 분할 예제 ===\n",
      "전체 데이터: [1, 2, 3, 4, 5, 6, 7, 8, 9, 10]\n",
      "8\n",
      "train_data :  [1, 2, 3, 4, 5, 6, 7, 8]\n",
      "test_data :  [9, 10]\n",
      "\\기본 비율(80%)로 분할:\n",
      "학습 데이터: [1, 2, 3, 4, 5, 6, 7, 8]\n",
      "테스트 데이터: [9, 10]\n"
     ]
    }
   ],
   "source": [
    "# 데이터 분할 함수 --- 이 패턴은 자주사용된다. *******\n",
    "def split_data(data, train_ratio = 0.8):\n",
    "    \"\"\"\n",
    "    데이터를 학습용 테스트용으로 분리하는 함수\n",
    "    매개변수 : \n",
    "        data : 분할할 데이터 리스트.\n",
    "        train_ratio : 학습 데이터의 비율(기본값 0.8 = 80%)\n",
    "    반환값 : \n",
    "        train_data : 학습용 데이터.\n",
    "        test_data : 데스트용 데이터.\n",
    "    \"\"\"\n",
    "    # 학습 데이터 개수 계산\n",
    "    split_index = int(len(data) * train_ratio)  # len 함수 : 문자열, 리스트 튜플등 길이 측정\n",
    "    print(split_index)\n",
    "    # 데이터 분할\n",
    "    train_data = data[:split_index]     # 처음부터 split_index까지 ***\n",
    "    print(\"train_data : \", train_data)\n",
    "    test_data = data[split_index:]      # split_index 부터 끝까지 ***\n",
    "    print(\"test_data : \", test_data)\n",
    "    return train_data, test_data\n",
    "\n",
    "# 데이터 분할 함수 사용 예시\n",
    "full_data = [1,2,3,4,5,6,7,8,9,10]\n",
    "print(\"=== 데이터 분할 예제 ===\")\n",
    "print(\"전체 데이터:\", full_data)    # 콤마(,)로 결과로 나오는 리스트의 요소 값을 구분\n",
    "# 80:20으로 분할\n",
    "train, test = split_data(full_data)\n",
    "print(\"\\기본 비율(80%)로 분할:\")\n",
    "print(\"학습 데이터:\", train)    # 학습 데이터 : [1,2,3,4,5,6,7,8]\n",
    "print(\"테스트 데이터:\", test)   # 테스트 데이터 : [9,10]"
   ]
  },
  {
   "cell_type": "markdown",
   "metadata": {},
   "source": [
    "# 람다함수"
   ]
  },
  {
   "cell_type": "code",
   "execution_count": 13,
   "metadata": {},
   "outputs": [],
   "source": [
    "# 익명함수로 이름 없이 간단히 사용이 가능.\n",
    "# lambda 키워드를 사용해 작성하며, 한줄로 작성되는 간단한 함수에 적합.\n",
    "# 특징 : \n",
    "#       1. 간결함\n",
    "#           - 한 줄로 함수의 동작을 표현 가능.\n",
    "#           - 일반적으로 짧은 연산이나 표현식에 사용\n",
    "#       2. 이름이 없음\n",
    "#           - 람다 함수는 익명으로, 변수에 할당하거나 다른 함수의 인자로 전달될 때 주로 사용.\n",
    "\n",
    "# 형식 : \n",
    "#       lambda 변수1, 변수2 : 표현식\n",
    "\n",
    "# 람다함수 vs 일반함수\n",
    "# 람다함수 : \n",
    "#       multiply = lambda x, y : x * y\n",
    "#       print(multiply(3,4))\n",
    "\n",
    "# 일반함수:\n",
    "#       def multipy(x,y):\n",
    "#           return x * y\n",
    "#       print(multiply(3,4))"
   ]
  },
  {
   "cell_type": "code",
   "execution_count": 16,
   "metadata": {},
   "outputs": [
    {
     "name": "stdout",
     "output_type": "stream",
     "text": [
      "25\n",
      "10\n"
     ]
    }
   ],
   "source": [
    "# 단순 계산 및 여러 매개변수 사용\n",
    "\n",
    "# 단순계산\n",
    "square = lambda x : x ** 2\n",
    "print(square(5))\n",
    "\n",
    "# 여러 매개변수 사용\n",
    "add = lambda a, b : a + b\n",
    "print(add(3,7))"
   ]
  },
  {
   "cell_type": "code",
   "execution_count": 21,
   "metadata": {},
   "outputs": [
    {
     "name": "stdout",
     "output_type": "stream",
     "text": [
      "홀수\n",
      "[1, 2, 5, 8]\n"
     ]
    }
   ],
   "source": [
    "# 조건문 사용 및 다른 함수 인자로 사용\n",
    "\n",
    "# 조건문 사용\n",
    "check_even = lambda x : \"짝수\" if x % 2 == 0 else \"홀수\"\n",
    "print(check_even(5))\n",
    "\n",
    "# 다른 함수의 인자로 사용\n",
    "numbers = [5,2,8,1]\n",
    "sorted_numbers = sorted(numbers, key = lambda x : x)\n",
    "print(sorted_numbers)\n",
    "\n",
    "# cf.sorted 함수 : 객체를 입력받아 정렬된 리스트를 반환하는 내장함수. 다른 메모리 사용.\n",
    "# cf.sort 함수 : 객체를 입력받아 정렬된 리스트를 반환하는 내장함수, 같은 메모리 사용.\n"
   ]
  },
  {
   "cell_type": "markdown",
   "metadata": {},
   "source": [
    "# 내장함수"
   ]
  },
  {
   "cell_type": "code",
   "execution_count": 22,
   "metadata": {},
   "outputs": [],
   "source": [
    "# 내장함수\n",
    "# 파이썬에서 기본적으로 제공하는 함수로, 임포트하지 않고 바로 사용 가능.\n",
    "# 코드를 간결하게 작성하고 다양한 작업을 쉽게 처리할 수 있도록 설계됨."
   ]
  },
  {
   "cell_type": "code",
   "execution_count": 29,
   "metadata": {},
   "outputs": [
    {
     "name": "stdout",
     "output_type": "stream",
     "text": [
      "False\n",
      "<class 'int'>\n",
      "<class 'str'>\n",
      "3\n",
      "<class 'float'>\n",
      "3.0\n"
     ]
    }
   ],
   "source": [
    "print(bool(3<1))\n",
    "print(type(3))\n",
    "print(type(str(3)))\n",
    "print(str(3))\n",
    "print(type(float(3)))\n",
    "print(float(3))"
   ]
  },
  {
   "cell_type": "code",
   "execution_count": 56,
   "metadata": {},
   "outputs": [
    {
     "data": {
      "text/plain": [
       "<filter at 0x2736afa9270>"
      ]
     },
     "execution_count": 56,
     "metadata": {},
     "output_type": "execute_result"
    }
   ],
   "source": [
    "# type(123)\n",
    "# int(\"10\")\n",
    "# float(\"3.14\")\n",
    "# str(123)\n",
    "# bool(0)\n",
    "# len([1,2,3])\n",
    "# min([1,2,3])\n",
    "# sorted([3,1,2])\n",
    "# list(reversed([1,2,3]))\n",
    "# print(\"aaa\")\n",
    "# 3.6버전 이상\n",
    "# abs(-2)\n",
    "round(3.1415926, 1)\n",
    "filter(lambda x : x > 2, [1,2,3])"
   ]
  },
  {
   "cell_type": "code",
   "execution_count": 60,
   "metadata": {},
   "outputs": [
    {
     "name": "stdout",
     "output_type": "stream",
     "text": [
      "['apple', 'cherry', 'orange']\n"
     ]
    }
   ],
   "source": [
    "fruits = ['apple','cherry']\n",
    "fruits.append('orange')\n",
    "print(fruits)"
   ]
  },
  {
   "cell_type": "code",
   "execution_count": 63,
   "metadata": {},
   "outputs": [
    {
     "name": "stdout",
     "output_type": "stream",
     "text": [
      "['apple', 'banana', 'cherry', 'date']\n"
     ]
    }
   ],
   "source": [
    "fruits = ['apple', 'banana']\n",
    "fruits.extend(['cherry', 'date'])\n",
    "print(fruits)"
   ]
  },
  {
   "cell_type": "code",
   "execution_count": 65,
   "metadata": {},
   "outputs": [
    {
     "name": "stdout",
     "output_type": "stream",
     "text": [
      "['apple', 'cherry', 'banana']\n"
     ]
    }
   ],
   "source": [
    "fruits = ['apple', 'banana']\n",
    "fruits.insert(1,\"cherry\")\n",
    "print(fruits)"
   ]
  },
  {
   "cell_type": "code",
   "execution_count": 68,
   "metadata": {},
   "outputs": [
    {
     "name": "stdout",
     "output_type": "stream",
     "text": [
      "['apple', 'cherry']\n"
     ]
    }
   ],
   "source": [
    "fruits = ['apple', 'cherry', 'banana']\n",
    "fruits.remove('banana')\n",
    "print(fruits)"
   ]
  },
  {
   "cell_type": "code",
   "execution_count": 70,
   "metadata": {},
   "outputs": [
    {
     "name": "stdout",
     "output_type": "stream",
     "text": [
      "cherry\n",
      "['apple', 'banana']\n"
     ]
    }
   ],
   "source": [
    "fruits = ['apple', 'banana','cherry']\n",
    "last_item = fruits.pop()\n",
    "print(last_item)\n",
    "print(fruits)"
   ]
  },
  {
   "cell_type": "code",
   "execution_count": 72,
   "metadata": {},
   "outputs": [
    {
     "name": "stdout",
     "output_type": "stream",
     "text": [
      "[1, 2, 3, 4, 5]\n"
     ]
    }
   ],
   "source": [
    "numbers = [3,1,4,2,5]\n",
    "numbers.sort()\n",
    "print(numbers)"
   ]
  },
  {
   "cell_type": "code",
   "execution_count": 74,
   "metadata": {},
   "outputs": [
    {
     "name": "stdout",
     "output_type": "stream",
     "text": [
      "[5, 2, 4, 1, 3]\n"
     ]
    }
   ],
   "source": [
    "numbers = [3,1,4,2,5]\n",
    "numbers.reverse()\n",
    "print(numbers)"
   ]
  },
  {
   "cell_type": "code",
   "execution_count": 76,
   "metadata": {},
   "outputs": [
    {
     "name": "stdout",
     "output_type": "stream",
     "text": [
      "1\n"
     ]
    }
   ],
   "source": [
    "numbers = [3,1,4,2,5]\n",
    "print(numbers.count(1))"
   ]
  },
  {
   "cell_type": "code",
   "execution_count": 78,
   "metadata": {},
   "outputs": [
    {
     "name": "stdout",
     "output_type": "stream",
     "text": [
      "1\n"
     ]
    }
   ],
   "source": [
    "fruits = ['apple', 'banana','cherry']\n",
    "print(fruits.index(\"banana\"))"
   ]
  },
  {
   "cell_type": "code",
   "execution_count": 82,
   "metadata": {},
   "outputs": [
    {
     "name": "stdout",
     "output_type": "stream",
     "text": [
      "HELLO WORLD!!\n",
      "hello world!!\n"
     ]
    }
   ],
   "source": [
    "text = \"Hello World!!\"\n",
    "text.upper()\n",
    "print(text.upper())\n",
    "print(text.lower())"
   ]
  },
  {
   "cell_type": "code",
   "execution_count": 85,
   "metadata": {},
   "outputs": [
    {
     "name": "stdout",
     "output_type": "stream",
     "text": [
      "b0n0n0\n"
     ]
    }
   ],
   "source": [
    "text = \"banana\"\n",
    "print(text.replace(\"a\",\"0\"))"
   ]
  },
  {
   "cell_type": "code",
   "execution_count": 87,
   "metadata": {},
   "outputs": [
    {
     "name": "stdout",
     "output_type": "stream",
     "text": [
      "['apple', ' banana', ' cherry']\n"
     ]
    }
   ],
   "source": [
    "text = \"apple, banana, cherry\"\n",
    "print(text.split(\",\"))"
   ]
  },
  {
   "cell_type": "code",
   "execution_count": 90,
   "metadata": {},
   "outputs": [
    {
     "name": "stdout",
     "output_type": "stream",
     "text": [
      "6\n"
     ]
    }
   ],
   "source": [
    "text = \"Hello World\"\n",
    "print(text.find(\"World\"))"
   ]
  },
  {
   "cell_type": "code",
   "execution_count": 92,
   "metadata": {},
   "outputs": [
    {
     "name": "stdout",
     "output_type": "stream",
     "text": [
      "True\n"
     ]
    }
   ],
   "source": [
    "text = \"12345\"\n",
    "print(text.isnumeric())"
   ]
  },
  {
   "cell_type": "code",
   "execution_count": 93,
   "metadata": {},
   "outputs": [
    {
     "name": "stdout",
     "output_type": "stream",
     "text": [
      "Hello world\n"
     ]
    }
   ],
   "source": [
    "text = \"hello world\"\n",
    "print(text.capitalize())"
   ]
  }
 ],
 "metadata": {
  "kernelspec": {
   "display_name": ".venv",
   "language": "python",
   "name": "python3"
  },
  "language_info": {
   "codemirror_mode": {
    "name": "ipython",
    "version": 3
   },
   "file_extension": ".py",
   "mimetype": "text/x-python",
   "name": "python",
   "nbconvert_exporter": "python",
   "pygments_lexer": "ipython3",
   "version": "3.12.8"
  }
 },
 "nbformat": 4,
 "nbformat_minor": 2
}
