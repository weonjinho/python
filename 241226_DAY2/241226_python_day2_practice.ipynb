{
 "cells": [
  {
   "cell_type": "code",
   "execution_count": 2,
   "metadata": {},
   "outputs": [
    {
     "name": "stdout",
     "output_type": "stream",
     "text": [
      "안녕하세요\n"
     ]
    }
   ],
   "source": [
    "def greet():\n",
    "    print(\"안녕하세요\")\n",
    "greet()"
   ]
  },
  {
   "cell_type": "code",
   "execution_count": 4,
   "metadata": {},
   "outputs": [
    {
     "name": "stdout",
     "output_type": "stream",
     "text": [
      "8\n"
     ]
    }
   ],
   "source": [
    "def add(a,b):\n",
    "    return a + b\n",
    "result = add(3,5)\n",
    "print(result)"
   ]
  },
  {
   "cell_type": "code",
   "execution_count": 6,
   "metadata": {},
   "outputs": [
    {
     "name": "stdout",
     "output_type": "stream",
     "text": [
      "안녕하세요. 홍길동님!\n",
      "안녕하세요. 준호님!\n"
     ]
    }
   ],
   "source": [
    "def greet(name=\"홍길동님\"):\n",
    "    print(f\"안녕하세요. {name}!\")\n",
    "greet()\n",
    "greet(\"준호님\")"
   ]
  },
  {
   "cell_type": "code",
   "execution_count": 8,
   "metadata": {},
   "outputs": [
    {
     "name": "stdout",
     "output_type": "stream",
     "text": [
      "24\n"
     ]
    }
   ],
   "source": [
    "def multiply(*args):\n",
    "    result = 1\n",
    "    for num in args:\n",
    "        result *= num\n",
    "    return result\n",
    "print(multiply(2,3,4))"
   ]
  },
  {
   "cell_type": "code",
   "execution_count": 10,
   "metadata": {},
   "outputs": [
    {
     "name": "stdout",
     "output_type": "stream",
     "text": [
      "양수입니다.\n",
      "음수입니다.\n",
      "0입니다.\n"
     ]
    }
   ],
   "source": [
    "# if문 활용\n",
    "def check_number(num):\n",
    "    if num > 0:\n",
    "        return \"양수입니다.\"\n",
    "    elif num < 0:\n",
    "        return \"음수입니다.\"\n",
    "    else:\n",
    "        return \"0입니다.\"\n",
    "print(check_number(5))\n",
    "print(check_number(-3))\n",
    "print(check_number(0))"
   ]
  },
  {
   "cell_type": "code",
   "execution_count": 11,
   "metadata": {},
   "outputs": [
    {
     "name": "stdout",
     "output_type": "stream",
     "text": [
      "로그인 성공\n",
      "로그인 실패\n"
     ]
    }
   ],
   "source": [
    "def login_check(username, password):\n",
    "    if username == \"admin\" and password == \"1234\" : \n",
    "        return \"로그인 성공\"\n",
    "    else : \n",
    "        return \"로그인 실패\"\n",
    "print(login_check(\"admin\", \"1234\"))\n",
    "print(login_check(\"admin\", \"5678\"))"
   ]
  },
  {
   "cell_type": "code",
   "execution_count": 12,
   "metadata": {},
   "outputs": [
    {
     "name": "stdout",
     "output_type": "stream",
     "text": [
      "9\n"
     ]
    }
   ],
   "source": [
    "def find_max(numbers):\n",
    "    max_num = numbers[0]\n",
    "    for num in numbers:\n",
    "        if num > max_num:\n",
    "            max_num = num\n",
    "    return max_num\n",
    "numbers = [1, 5, 3, 9, 2]\n",
    "print(find_max(numbers))"
   ]
  },
  {
   "cell_type": "code",
   "execution_count": 20,
   "metadata": {},
   "outputs": [
    {
     "name": "stdout",
     "output_type": "stream",
     "text": [
      "[2, 4, 6, 8, 10]\n"
     ]
    }
   ],
   "source": [
    "def get_even_numbers(start, end):\n",
    "    even_nums = []\n",
    "    for num in range(start, end + 1):\n",
    "        if num % 2 == 0:\n",
    "            even_nums.append(num)\n",
    "    return even_nums\n",
    "print(get_even_numbers(1,10))"
   ]
  },
  {
   "cell_type": "code",
   "execution_count": 21,
   "metadata": {},
   "outputs": [
    {
     "name": "stdout",
     "output_type": "stream",
     "text": [
      "1 개월 차:  200,000원 저축\n",
      "2 개월 차:  400,000원 저축\n",
      "3 개월 차:  600,000원 저축\n",
      "4 개월 차:  800,000원 저축\n",
      "5 개월 차:  1,000,000원 저축\n",
      "5개월 만에 목표 금액 달성\n"
     ]
    }
   ],
   "source": [
    "def saving_simulation(target_amount, monthly_saving):\n",
    "    total = 0\n",
    "    months = 0\n",
    "    while total < target_amount:\n",
    "        total += monthly_saving\n",
    "        months += 1\n",
    "        print(f\"{months} 개월 차: {total: ,}원 저축\")\n",
    "    return f\"{months}개월 만에 목표 금액 달성\"\n",
    "print(saving_simulation(1000000, 200000))"
   ]
  },
  {
   "cell_type": "code",
   "execution_count": 27,
   "metadata": {},
   "outputs": [
    {
     "name": "stdout",
     "output_type": "stream",
     "text": [
      "1 개월 차:  200,000원 저축\n",
      "2 개월 차:  400,000원 저축\n",
      "3 개월 차:  600,000원 저축\n",
      "4 개월 차:  800,000원 저축\n",
      "5 개월 차:  1,000,000원 저축\n",
      "5개월 만에 목표 금액 달성\n"
     ]
    }
   ],
   "source": [
    "def saving_simulation(target_amount, monthly_saving):\n",
    "    total = 0\n",
    "    months = 0\n",
    "    while total < target_amount:\n",
    "        total += monthly_saving\n",
    "        months += 1\n",
    "        print(\"{} 개월 차: {: ,}원 저축\".format(months, total))\n",
    "    return (\"{}개월 만에 목표 금액 달성\".format(months))\n",
    "\n",
    "print(saving_simulation(1000000, 200000))"
   ]
  },
  {
   "cell_type": "code",
   "execution_count": 28,
   "metadata": {},
   "outputs": [
    {
     "name": "stdout",
     "output_type": "stream",
     "text": [
      "정답입니다! 1 번 만에 맟추셨습니다.\n"
     ]
    }
   ],
   "source": [
    "def guess_number(answer):\n",
    "    count = 0\n",
    "    guess = None\n",
    "    while guess != answer:\n",
    "        guess = int(input(\"1부터 100 사이의 숫자를 맟춰보세요:\"))\n",
    "        count += 1\n",
    "        if guess < answer : \n",
    "            print(\"더 큰 숫자입니다.\")\n",
    "        elif guess > answer : \n",
    "            print(\"더 작은 숫자입니다.\")\n",
    "            \n",
    "    return \"정답입니다! {} 번 만에 맟추셨습니다.\".format(count)\n",
    "print(guess_number(45))"
   ]
  },
  {
   "cell_type": "code",
   "execution_count": 33,
   "metadata": {},
   "outputs": [
    {
     "name": "stdout",
     "output_type": "stream",
     "text": [
      "원본 데이터 :  [10, 20, 30, 40, 50]\n",
      "정규화된 데이터 :  [0.0, 0.25, 0.5, 0.75, 1.0]\n"
     ]
    }
   ],
   "source": [
    "def normalize_data(numbers):\n",
    "    min_value = min(numbers)\n",
    "    max_value = max(numbers)\n",
    "    normalized = []\n",
    "    \n",
    "    for num in numbers:\n",
    "        norm_value = (num - min_value) / (max_value - min_value)\n",
    "        normalized.append(norm_value)\n",
    "    return normalized\n",
    "\n",
    "data = [10, 20, 30, 40, 50]\n",
    "print(\"원본 데이터 : \" , data)\n",
    "normalized = normalize_data(data)\n",
    "print(\"정규화된 데이터 : \" , normalized)"
   ]
  },
  {
   "cell_type": "code",
   "execution_count": 34,
   "metadata": {},
   "outputs": [
    {
     "name": "stdout",
     "output_type": "stream",
     "text": [
      "전체 데이터 :  [1, 2, 3, 4, 5, 6, 7, 8, 9, 10]\n",
      "학습 데이터 :  [1, 2, 3, 4, 5, 6, 7, 8]\n",
      "테스트 데이터 :  [9, 10]\n",
      "학습 데이터2 :  [1, 2, 3, 4, 5, 6, 7]\n",
      "테스트 데이터2 :  [8, 9, 10]\n"
     ]
    }
   ],
   "source": [
    "def split_data(data, train_ratio = 0.8):\n",
    "    split_index = int(len(data) * train_ratio)\n",
    "    train_data = data[:split_index]\n",
    "    test_data = data[split_index:]\n",
    "    return train_data, test_data\n",
    "\n",
    "full_data = [1,2,3,4,5,6,7,8,9,10]\n",
    "print(\"전체 데이터 : \", full_data)\n",
    "\n",
    "# 80 : 20으로 분할\n",
    "train, test = split_data(full_data)\n",
    "print(\"학습 데이터 : \", train)\n",
    "print(\"테스트 데이터 : \", test)\n",
    "\n",
    "# 70 : 30으로 분할\n",
    "train2, test2 = split_data(full_data, train_ratio = 0.7)\n",
    "print(\"학습 데이터2 : \", train2)\n",
    "print(\"테스트 데이터2 : \", test2)"
   ]
  },
  {
   "cell_type": "code",
   "execution_count": 36,
   "metadata": {},
   "outputs": [
    {
     "name": "stdout",
     "output_type": "stream",
     "text": [
      "12\n"
     ]
    }
   ],
   "source": [
    "multiply = lambda x, y : x * y\n",
    "print(multiply(3,4))"
   ]
  },
  {
   "cell_type": "code",
   "execution_count": 37,
   "metadata": {},
   "outputs": [
    {
     "name": "stdout",
     "output_type": "stream",
     "text": [
      "25\n"
     ]
    }
   ],
   "source": [
    "square = lambda x : x ** 2\n",
    "print(square(5))"
   ]
  },
  {
   "cell_type": "code",
   "execution_count": 38,
   "metadata": {},
   "outputs": [
    {
     "name": "stdout",
     "output_type": "stream",
     "text": [
      "10\n"
     ]
    }
   ],
   "source": [
    "add = lambda a,b : a + b\n",
    "print(add(3,7))"
   ]
  },
  {
   "cell_type": "code",
   "execution_count": 40,
   "metadata": {},
   "outputs": [
    {
     "name": "stdout",
     "output_type": "stream",
     "text": [
      "짝수\n"
     ]
    }
   ],
   "source": [
    "check_even = lambda x : \"짝수\" if x % 2 == 0 else \"홀수\"\n",
    "print(check_even(4))"
   ]
  },
  {
   "cell_type": "code",
   "execution_count": 42,
   "metadata": {},
   "outputs": [
    {
     "name": "stdout",
     "output_type": "stream",
     "text": [
      "[1, 2, 5, 9]\n",
      "[1, 2, 5, 9]\n"
     ]
    }
   ],
   "source": [
    "numbers = [5,2,9,1]\n",
    "sorted_numbers = sorted(numbers, key = lambda x : x)\n",
    "print(sorted_numbers)\n",
    "numbers.sort(key=lambda x : x)\n",
    "print(numbers)"
   ]
  },
  {
   "cell_type": "code",
   "execution_count": 44,
   "metadata": {},
   "outputs": [
    {
     "name": "stdout",
     "output_type": "stream",
     "text": [
      "Black Pink\n"
     ]
    }
   ],
   "source": [
    "full_name = \"Black Pink\"\n",
    "print(full_name)"
   ]
  },
  {
   "cell_type": "code",
   "execution_count": 50,
   "metadata": {},
   "outputs": [
    {
     "data": {
      "text/plain": [
       "['Black', 'Pink']"
      ]
     },
     "execution_count": 50,
     "metadata": {},
     "output_type": "execute_result"
    }
   ],
   "source": [
    "full_name.split()"
   ]
  },
  {
   "cell_type": "code",
   "execution_count": 52,
   "metadata": {},
   "outputs": [
    {
     "data": {
      "text/plain": [
       "['Blac', ' Pin', '']"
      ]
     },
     "execution_count": 52,
     "metadata": {},
     "output_type": "execute_result"
    }
   ],
   "source": [
    "full_name.split(\"k\")"
   ]
  },
  {
   "cell_type": "code",
   "execution_count": 53,
   "metadata": {},
   "outputs": [
    {
     "data": {
      "text/plain": [
       "['Black ', 'nk']"
      ]
     },
     "execution_count": 53,
     "metadata": {},
     "output_type": "execute_result"
    }
   ],
   "source": [
    "full_name.split(\"Pi\")"
   ]
  },
  {
   "cell_type": "code",
   "execution_count": 54,
   "metadata": {},
   "outputs": [
    {
     "name": "stdout",
     "output_type": "stream",
     "text": [
      "blackpink@gmail.com\n"
     ]
    }
   ],
   "source": [
    "email = \"blackpink@gmail.com\"\n",
    "print(email)"
   ]
  },
  {
   "cell_type": "code",
   "execution_count": 56,
   "metadata": {},
   "outputs": [
    {
     "name": "stdout",
     "output_type": "stream",
     "text": [
      "['blackpink', 'gmail.com']\n"
     ]
    }
   ],
   "source": [
    "z = email.split(\"@\")\n",
    "print(z)"
   ]
  },
  {
   "cell_type": "code",
   "execution_count": 57,
   "metadata": {},
   "outputs": [
    {
     "data": {
      "text/plain": [
       "'blackpink'"
      ]
     },
     "execution_count": 57,
     "metadata": {},
     "output_type": "execute_result"
    }
   ],
   "source": [
    "z[0]"
   ]
  },
  {
   "cell_type": "code",
   "execution_count": 58,
   "metadata": {},
   "outputs": [
    {
     "data": {
      "text/plain": [
       "'gmail.com'"
      ]
     },
     "execution_count": 58,
     "metadata": {},
     "output_type": "execute_result"
    }
   ],
   "source": [
    "z[1]"
   ]
  },
  {
   "cell_type": "code",
   "execution_count": 59,
   "metadata": {},
   "outputs": [
    {
     "name": "stdout",
     "output_type": "stream",
     "text": [
      "BlackPink\n"
     ]
    }
   ],
   "source": [
    "first_name = \"Black\"\n",
    "last_name = \"Pink\"\n",
    "full_name = first_name + last_name\n",
    "print(full_name)"
   ]
  },
  {
   "cell_type": "code",
   "execution_count": 61,
   "metadata": {},
   "outputs": [
    {
     "data": {
      "text/plain": [
       "'BLACKPINK'"
      ]
     },
     "execution_count": 61,
     "metadata": {},
     "output_type": "execute_result"
    }
   ],
   "source": [
    "full_name.upper()"
   ]
  },
  {
   "cell_type": "code",
   "execution_count": 62,
   "metadata": {},
   "outputs": [
    {
     "data": {
      "text/plain": [
       "'blackpink'"
      ]
     },
     "execution_count": 62,
     "metadata": {},
     "output_type": "execute_result"
    }
   ],
   "source": [
    "full_name.lower()"
   ]
  },
  {
   "cell_type": "code",
   "execution_count": 63,
   "metadata": {},
   "outputs": [
    {
     "data": {
      "text/plain": [
       "'Blackpink'"
      ]
     },
     "execution_count": 63,
     "metadata": {},
     "output_type": "execute_result"
    }
   ],
   "source": [
    "full_name.title()"
   ]
  },
  {
   "cell_type": "code",
   "execution_count": 65,
   "metadata": {},
   "outputs": [
    {
     "name": "stdout",
     "output_type": "stream",
     "text": [
      "Hello\n",
      "python\n"
     ]
    }
   ],
   "source": [
    "print(\"Hello\\npython\")"
   ]
  },
  {
   "cell_type": "code",
   "execution_count": 67,
   "metadata": {},
   "outputs": [
    {
     "name": "stdout",
     "output_type": "stream",
     "text": [
      "백슬래시는 이렇게 \\ 출력\n"
     ]
    }
   ],
   "source": [
    "print(\"백슬래시는 이렇게 \\\\ 출력\")"
   ]
  },
  {
   "cell_type": "code",
   "execution_count": 68,
   "metadata": {},
   "outputs": [
    {
     "name": "stdout",
     "output_type": "stream",
     "text": [
      "안녕하세요, Alice입니다. 저는 30살입니다.\n"
     ]
    }
   ],
   "source": [
    "name = \"Alice\"\n",
    "age = 30\n",
    "greeting = \"안녕하세요, {}입니다. 저는 {}살입니다.\".format(name, age)\n",
    "print(greeting)"
   ]
  },
  {
   "cell_type": "code",
   "execution_count": 69,
   "metadata": {},
   "outputs": [
    {
     "name": "stdout",
     "output_type": "stream",
     "text": [
      "3.1\n"
     ]
    }
   ],
   "source": [
    "number = 3.1415926\n",
    "rounded_number = round(number, 1)\n",
    "print(rounded_number)"
   ]
  },
  {
   "cell_type": "code",
   "execution_count": 71,
   "metadata": {},
   "outputs": [
    {
     "name": "stdout",
     "output_type": "stream",
     "text": [
      "8\n"
     ]
    }
   ],
   "source": [
    "result = pow(2,3)\n",
    "print(result)"
   ]
  },
  {
   "cell_type": "code",
   "execution_count": 74,
   "metadata": {},
   "outputs": [
    {
     "name": "stdout",
     "output_type": "stream",
     "text": [
      "[2, 4, 6, 8, 10]\n"
     ]
    }
   ],
   "source": [
    "numbers = [1,2,3,4,5]\n",
    "def double(x):\n",
    "    return x * 2\n",
    "result = list(map(double, numbers))\n",
    "print(result)"
   ]
  },
  {
   "cell_type": "code",
   "execution_count": 75,
   "metadata": {},
   "outputs": [
    {
     "name": "stdout",
     "output_type": "stream",
     "text": [
      "['APPLE', 'BANANA', 'CHERRY']\n"
     ]
    }
   ],
   "source": [
    "words = [\"apple\", \"banana\", \"cherry\"]\n",
    "def to_upper(s):\n",
    "    return s.upper()\n",
    "result = list(map(to_upper, words))\n",
    "print(result)"
   ]
  },
  {
   "cell_type": "code",
   "execution_count": 77,
   "metadata": {},
   "outputs": [
    {
     "name": "stdout",
     "output_type": "stream",
     "text": [
      "[2, 4]\n"
     ]
    }
   ],
   "source": [
    "numbers = [1,2,3,4,5]\n",
    "even_numbers = list(filter(lambda x : x % 2 == 0, numbers))\n",
    "print(even_numbers)"
   ]
  },
  {
   "cell_type": "code",
   "execution_count": 78,
   "metadata": {},
   "outputs": [
    {
     "name": "stdout",
     "output_type": "stream",
     "text": [
      "[(1, 'a'), (2, 'b'), (3, 'c')]\n"
     ]
    }
   ],
   "source": [
    "list1 = [1,2,3]\n",
    "list2 = ['a', 'b', 'c']\n",
    "result = list(zip(list1, list2))\n",
    "print(result)"
   ]
  },
  {
   "cell_type": "code",
   "execution_count": 79,
   "metadata": {},
   "outputs": [
    {
     "name": "stdout",
     "output_type": "stream",
     "text": [
      "0 apple\n",
      "1 banana\n",
      "2 cherry\n"
     ]
    }
   ],
   "source": [
    "fruits = ['apple', 'banana', 'cherry']\n",
    "for index, fruit in enumerate(fruits):\n",
    "    print(index, fruit)"
   ]
  },
  {
   "cell_type": "code",
   "execution_count": null,
   "metadata": {},
   "outputs": [],
   "source": []
  }
 ],
 "metadata": {
  "kernelspec": {
   "display_name": ".venv",
   "language": "python",
   "name": "python3"
  },
  "language_info": {
   "codemirror_mode": {
    "name": "ipython",
    "version": 3
   },
   "file_extension": ".py",
   "mimetype": "text/x-python",
   "name": "python",
   "nbconvert_exporter": "python",
   "pygments_lexer": "ipython3",
   "version": "3.12.8"
  }
 },
 "nbformat": 4,
 "nbformat_minor": 2
}
