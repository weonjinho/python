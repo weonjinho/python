{
 "cells": [
  {
   "cell_type": "code",
   "execution_count": 6,
   "metadata": {},
   "outputs": [
    {
     "name": "stdout",
     "output_type": "stream",
     "text": [
      "잘못된 점수입니다.\n"
     ]
    }
   ],
   "source": [
    "# 과제 요구사항: \n",
    "# 1. 사용자로부터 점수를 입력받습니다. \n",
    "# 2. 90점 이상: A 학점 \n",
    "# 3. 80점 이상 90점 미만: B 학점 \n",
    "# 4. 70점 이상 80점 미만: C 학점 \n",
    "# 5. 60점 이상 70점 미만: D 학점 \n",
    "# 6. 60점 미만: F 학점 \n",
    "# 7. 0보다 작거나 100보다 큰 점수는 \"잘못된 점수입니다.\" 출력\n",
    "score = int(input(\"점수 입력\"))\n",
    "def check_score(score):\n",
    "    if score < 0 or score > 100:\n",
    "        print(\"잘못된 점수입니다.\")\n",
    "    elif score >= 90:\n",
    "        print(\"A학점\")\n",
    "    elif score >= 80:\n",
    "        print(\"B학점\")\n",
    "    elif score >= 70:\n",
    "        print(\"C학점\")\n",
    "    elif score > 60:\n",
    "        print(\"D학점\")\n",
    "    else:\n",
    "        print(\"F학점\")\n",
    "        \n",
    "check_score(score)\n",
    "    \n",
    "\n"
   ]
  }
 ],
 "metadata": {
  "kernelspec": {
   "display_name": ".venv",
   "language": "python",
   "name": "python3"
  },
  "language_info": {
   "codemirror_mode": {
    "name": "ipython",
    "version": 3
   },
   "file_extension": ".py",
   "mimetype": "text/x-python",
   "name": "python",
   "nbconvert_exporter": "python",
   "pygments_lexer": "ipython3",
   "version": "3.12.8"
  }
 },
 "nbformat": 4,
 "nbformat_minor": 2
}
