{
 "cells": [
  {
   "cell_type": "markdown",
   "metadata": {},
   "source": [
    "# for문\n",
    "* 반복 가능한 객체(리스트, 튜플, 문자열 등)의 각 요소를 순회하며 코드를 실행하는 반복문.\n",
    "* 특정 작업을 반복적으로 수행할 때 사용하고,반복 횟수를 명확히 제어 가능."
   ]
  },
  {
   "cell_type": "markdown",
   "metadata": {},
   "source": [
    "### 기본 for문\n",
    "* 반복 대상의 요소를 하나씩 순회하며 실행.\n",
    "\n",
    "\n",
    "* 형식\n",
    "```python\n",
    "    for 변수 in 반복가능 객체:\n",
    "        실행문\n",
    "```\n",
    "\n",
    "[예시]\n",
    "```python\n",
    "    numbers = [1,2,3,4,5]\n",
    "    for num in numbers:\n",
    "        print(num * 2)\n",
    "    # 결과 : 2,4,6,8,10\n",
    "```"
   ]
  },
  {
   "cell_type": "markdown",
   "metadata": {},
   "source": [
    "### range()와 함께 사용시\n",
    "* range()함수로 반복 횟수를 지정.\n",
    "* range(시작값, 종료값, 증가값)\n",
    "\n",
    "\n",
    "* 형식\n",
    "```python\n",
    "    for 변수 in range():\n",
    "        실행문\n",
    "```\n",
    "\n",
    "\n",
    "[예시]\n",
    "```python\n",
    "    for i in range(1,6):\n",
    "        print(f\"{현재 값 : {i}}\")\n",
    "    # 결과 : 현재값 1, 현재값 2 ~ 현재값 5\n",
    "```"
   ]
  },
  {
   "cell_type": "markdown",
   "metadata": {},
   "source": [
    "### 중첩 for문\n",
    "* 반복문 안에 또 다른 반복문 포함\n",
    "* 안쪽에 있는 for문이 완전히 실행된 후에 바깥쪽 for문이 실행되면서 반복되는 구조.\n",
    "\n",
    "\n",
    "* 형식\n",
    "```python\n",
    "    for 변수1 in 반복객체1:\n",
    "        for 변수2 in 반복객체2:\n",
    "            실행문\n",
    "```\n",
    "\n",
    "[예시]\n",
    "```python\n",
    "    for i in range(1,4):\n",
    "        for j in range(1,3):\n",
    "            print(f\"i:{i}, j:{j}\")\n",
    "    # i:1, j:1\n",
    "    # i:1, j:2\n",
    "    # i:2, j:1\n",
    "    # i:2, j:2\n",
    "    # i:3, j:1\n",
    "    # i:3, j:2\n",
    "```"
   ]
  },
  {
   "cell_type": "markdown",
   "metadata": {},
   "source": [
    "### enumerate() 함께 사용 시\n",
    "* enumerate() 함수는 시퀀스(리스트, 튜플, 문자열 등)를 순회하면서 각 요소의 인덱스와 값을 튜플 형태로 함께 반환하는 내장 함수입니다.\n",
    "* 반복문을 돌면서 현재 어떤 인덱스의 값을 처리하고 있는지 알고 싶을 때 용이.\n",
    "\n",
    "\n",
    "* 형식\n",
    "```python\n",
    "    for 인덱스, 값 in enumerate():\n",
    "        실행문\n",
    "```\n",
    "\n",
    "[예시]\n",
    "```python\n",
    "    items = [\"A\", \"B\", \"C\"]\n",
    "    for idx, item in enumerate(items):\n",
    "        print(f\"인덱스{idx} : {item}\")\n",
    "    # 인덱스0 : A\n",
    "    # 인덱스1 : B\n",
    "    # 인덱스2 : C\n",
    "```"
   ]
  },
  {
   "cell_type": "markdown",
   "metadata": {},
   "source": [
    "# while문\n",
    "* 조건이 참(True)인 동안 특정 코드를 반복 실행하는 반복문으로 반복 횟수를 사전에 알 수 없을때 주로 사용합니다.\n",
    "* 조건식의 값이 변하지 않으면 무한 루프가 발생할 수 있음."
   ]
  },
  {
   "cell_type": "markdown",
   "metadata": {},
   "source": [
    "### 기본 for문\n",
    "* 종료 조건을 명시적으로 설정해야 안전.\n",
    "* 조건식이 False가 되면 반복 종료.\n",
    "\n",
    "\n",
    "* 형식\n",
    "```python\n",
    "    while 조건식 : \n",
    "        실행문\n",
    "```\n",
    "\n",
    "[예시]\n",
    "```python\n",
    "    count = 0\n",
    "    while count < 5:\n",
    "        print(f\"Count : {count}\")\n",
    "        count += 1\n",
    "    # Count : 0\n",
    "    # Count : 1\n",
    "    # Count : 2\n",
    "    # Count : 3\n",
    "    # Count : 4\n",
    "```"
   ]
  },
  {
   "cell_type": "markdown",
   "metadata": {},
   "source": [
    "### 무한 루프\n",
    "* 종료 조건 없이 True를 조건식으로 설정.\n",
    "* 반드시 break문으로 종료 조건 설정.\n",
    "\n",
    "\n",
    "* 형식\n",
    "```python\n",
    "    while True:\n",
    "        실행문\n",
    "```\n",
    "\n",
    "[예시]\n",
    "```python\n",
    "    while True:\n",
    "        user_input = input(\"종료하려면 'exit'입력 : \")\n",
    "        if user_input == \"exit\":\n",
    "            break\n",
    "```"
   ]
  },
  {
   "cell_type": "markdown",
   "metadata": {},
   "source": [
    "### 조건과 else 사용\n",
    "* 조건이 False로 바뀌면 else 블록 실행\n",
    "\n",
    "\n",
    "* 형식\n",
    "```python\n",
    "    while 조건식:\n",
    "        실행문\n",
    "    else:\n",
    "        실행문\n",
    "```\n",
    "\n",
    "[예시]\n",
    "```python\n",
    "    x = 5\n",
    "    while x > 0:\n",
    "        print(x)\n",
    "        x -= 1\n",
    "    else:\n",
    "        print(\"반복 종료\")\n",
    "```\n"
   ]
  },
  {
   "cell_type": "markdown",
   "metadata": {},
   "source": [
    "### break & continue 사용\n",
    "* continue : continue 아래의 코드는 실행되지 않고, 반복문의 조건 검사로 다시 돌아감.\n",
    "* break : break를 만나면 반복문을 벗어나게 되고 반복문 종료.\n",
    "\n",
    "\n",
    "[예시]\n",
    "```python\n",
    "    n = 0\n",
    "    while n < 10:\n",
    "        n += 1\n",
    "        if n % 2 == 0:\n",
    "            continue    # 짝수는 출력 건너뜀\n",
    "        print(n)\n",
    "        if n == 7:\n",
    "            break   # 7에서 반복 종료.\n",
    "```"
   ]
  }
 ],
 "metadata": {
  "kernelspec": {
   "display_name": ".venv",
   "language": "python",
   "name": "python3"
  },
  "language_info": {
   "name": "python",
   "version": "3.12.8"
  }
 },
 "nbformat": 4,
 "nbformat_minor": 2
}
