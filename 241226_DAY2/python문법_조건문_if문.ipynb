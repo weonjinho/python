{
 "cells": [
  {
   "cell_type": "markdown",
   "metadata": {},
   "source": [
    "# if문\n",
    "* 조건에 따라 코드 블록을 실행할 지 결정하는 제어문으로서 조건식이 True 일 경우에만 특정 코드를 실행.\n",
    "* 조건식의 결과는 True 또는 False로 나타나야 하고, 코드 블록은 들여쓰기로 구분되고, 콜론(:)기호로 조건식의 끝을 표시."
   ]
  },
  {
   "cell_type": "markdown",
   "metadata": {},
   "source": [
    "### 단순 if문\n",
    "* 조건이 참일 때만 실행되는 단일 블록\n",
    "\n",
    "\n",
    "* 형식\n",
    "```python\n",
    "    if 조건식 : \n",
    "        실행문\n",
    "```\n",
    "\n",
    "[예시]\n",
    "```python\n",
    "    score = 85\n",
    "    if score > 80:\n",
    "        print(\"테스트에 합격하셨습니다.\")\n",
    "    # 결과 : 테스트에 합격하셨습니다.\n",
    "```"
   ]
  },
  {
   "cell_type": "markdown",
   "metadata": {},
   "source": [
    "### if-else문\n",
    "* 조건이 참일 때와 거짓일 때 각각 다른 코드로 실행\n",
    "\n",
    "\n",
    "* 형식\n",
    "```python\n",
    "    if 조건식 : \n",
    "        실행문1\n",
    "    else:\n",
    "        실행문2\n",
    "```\n",
    "\n",
    "\n",
    "[예시]\n",
    "```python\n",
    "    number = 5\n",
    "    if number % 2 == 0:     # %는 나머지를 구하는 연산자\n",
    "        print(\"짝수입니다.\")\n",
    "    else:\n",
    "        print(\"홀수입니다.\")\n",
    "    # 결과 : 홀수입니다.\n",
    "```"
   ]
  },
  {
   "cell_type": "markdown",
   "metadata": {},
   "source": [
    "### if-elif-else\n",
    "* 여러 조건 중 하나만 선택하여 실행\n",
    "\n",
    "\n",
    "* 형식\n",
    "```python\n",
    "    if 조건식:\n",
    "        실행문1\n",
    "    elif 조건식2:\n",
    "        실행문2\n",
    "    else:\n",
    "        실행문3\n",
    "```\n",
    "\n",
    "[예시]\n",
    "```python\n",
    "    score = 85\n",
    "    if score >= 90:\n",
    "        print(\"A학점\")\n",
    "    elif score >= 80:\n",
    "        print(\"B학점\")\n",
    "    else:\n",
    "        print(\"C학점\")\n",
    "    # 걸과 : B 학점\n",
    "```\n"
   ]
  },
  {
   "cell_type": "markdown",
   "metadata": {},
   "source": [
    "### if문 활용 팁\n",
    "* 조건식 간단화 : 복잡한 조건은 논리 연산자(and, or, not)를 사용\n",
    "* 중첩 피하기 : 여러 조건은 elif 로 나누어 가독성 향상.\n",
    "* 디버깅 편리 : print()문으로 조건 결과 확인.\n",
    "\n",
    "\n",
    "[예시]\n",
    "```python\n",
    "    x, y = 10, 20\n",
    "    if x > 5 and y < 30:\n",
    "        print(\"조건을 만족합니다\")\n",
    "    # 결과 : 조건을 만족합니다.\n",
    "```"
   ]
  }
 ],
 "metadata": {
  "kernelspec": {
   "display_name": ".venv",
   "language": "python",
   "name": "python3"
  },
  "language_info": {
   "name": "python",
   "version": "3.12.8"
  }
 },
 "nbformat": 4,
 "nbformat_minor": 2
}
