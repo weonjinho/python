{
 "cells": [
  {
   "cell_type": "markdown",
   "metadata": {},
   "source": [
    "# 기본함수"
   ]
  },
  {
   "cell_type": "markdown",
   "metadata": {},
   "source": [
    "### 기본함수"
   ]
  },
  {
   "cell_type": "markdown",
   "metadata": {},
   "source": [
    "* 함수는 특정 작업을 수행하는 코드의 블록으로 재사용 가능한 프로그램의 구성 단위입니다.\n",
    "* 기본함수를 정의할 때는 <span style=\"color:red\">def</span> 를 사용하고,<span style=\"color:red\"> 함수 이름과 괄호()가 필요</span> 하며, 괄호안에 <span style=\"color:red\">매개변수를 정의하여 데이터를 전달받음</span>.\n",
    "\n",
    "#### 형식\n",
    "```python\n",
    "        def 함수이름(변수1, 변수2):\n",
    "            -- 함수 본문 --\n",
    "            return 반환값\n",
    "```\n",
    "\n",
    "#### 특징\n",
    "* 코드의 재사용성 향상\n",
    "* 프로그램의 구조화 및 모듈화 가능\n",
    "* 유지보수의 용이성\n",
    "* 코드의 가독성 향상\n",
    "* 중복코드 감소\n",
    "* 프로그램 개발시간 단축\n",
    "* 디버깅 용이\n",
    "\n",
    "#### 효율적인 함수 설계\n",
    "* 종은예시\n",
    "```python\n",
    "        def get_user_info(user_id):\n",
    "        \"\"\" 사용자 정보를 조회하는 함수 \"\"\"\"\n",
    "            user = database.query(user_id)\n",
    "            return{\n",
    "                'name' : user.name,\n",
    "                'email' : user.email,\n",
    "                'status' : user.status\n",
    "            }\n",
    "```\n",
    "\n",
    "* 좋지않은 예시\n",
    "```python\n",
    "        def process_user(user_id):\n",
    "            \"\"\" 여러가지 일을 한번에 하는 함수 \"\"\"\n",
    "            user = database.query(user_id)\n",
    "            send_email(user.email)\n",
    "            update_status(user.status)\n",
    "            generate_report(user)\n",
    "```\n",
    "\n",
    "#### 1. 매개변수가 없는 함수\n",
    "```python\n",
    "        def greet():\n",
    "            print(\"안녕하세요!\")\n",
    "        greet()\n",
    "```\n",
    "\n",
    "#### 2. 매개변수가 있는 함수\n",
    "```python\n",
    "        def add(a,b):\n",
    "            return a + b\n",
    "        return = add(3,5)\n",
    "        print(result)\n",
    "```\n",
    "\n",
    "#### 3. 기본값 매개변수 사용\n",
    "```python\n",
    "        def greet(name = \"홍길동님\"):\n",
    "            print(\"안녕하세요, {}\".format(name))\n",
    "        greet()\n",
    "        greet(\"준호님\")\n",
    "```\n",
    "\n",
    "#### 4. 가변 매개변수 사용\n",
    "* args : 입의의 개수의 숫자를 받아들임.\n",
    "```python\n",
    "        def multiply(*args):\n",
    "            result = 1\n",
    "            for num in args : \n",
    "                result *= num\n",
    "            return result\n",
    "\n",
    "        print(multiply(2, 3, 4))\n",
    "```\n",
    "\n",
    "\n",
    "\n"
   ]
  },
  {
   "cell_type": "code",
   "execution_count": 3,
   "metadata": {},
   "outputs": [
    {
     "name": "stdout",
     "output_type": "stream",
     "text": [
      "안녕하세요, 홍길동님\n",
      "안녕하세요, 준호님\n",
      "24\n"
     ]
    }
   ],
   "source": [
    "# 테스트\n",
    "def greet(name = \"홍길동님\"):\n",
    "    print(\"안녕하세요, {}\".format(name))\n",
    "greet()\n",
    "greet(\"준호님\")\n",
    "\n",
    "\n",
    "def multiply(*args):\n",
    "    result = 1\n",
    "    for num in args : \n",
    "        result *= num\n",
    "    return result\n",
    "\n",
    "print(multiply(2, 3, 4))\n"
   ]
  }
 ],
 "metadata": {
  "kernelspec": {
   "display_name": ".venv",
   "language": "python",
   "name": "python3"
  },
  "language_info": {
   "codemirror_mode": {
    "name": "ipython",
    "version": 3
   },
   "file_extension": ".py",
   "mimetype": "text/x-python",
   "name": "python",
   "nbconvert_exporter": "python",
   "pygments_lexer": "ipython3",
   "version": "3.12.8"
  }
 },
 "nbformat": 4,
 "nbformat_minor": 2
}
