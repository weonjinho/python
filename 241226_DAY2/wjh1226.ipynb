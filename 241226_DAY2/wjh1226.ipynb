{
 "cells": [
  {
   "cell_type": "code",
   "execution_count": 2,
   "metadata": {},
   "outputs": [
    {
     "name": "stdout",
     "output_type": "stream",
     "text": [
      "홀수\n"
     ]
    }
   ],
   "source": [
    "# 문제 1:\n",
    "# 사용자로부터 정수를 입력받아, 해당 숫자가 짝수인지 홀수인지 판단하는 함수를 작성하세요.\n",
    "num = int(input(\"숫자 입력\"))\n",
    "def check_num(num):\n",
    "    if num % 2 == 0:\n",
    "        print(\"짝수\")\n",
    "    else:\n",
    "        print(\"홀수\")\n",
    "        \n",
    "check_num(num)"
   ]
  },
  {
   "cell_type": "code",
   "execution_count": 16,
   "metadata": {},
   "outputs": [
    {
     "data": {
      "text/plain": [
       "5"
      ]
     },
     "execution_count": 16,
     "metadata": {},
     "output_type": "execute_result"
    }
   ],
   "source": [
    "# 문제 2:\n",
    "# 주어진 문자열에서 모음('a', 'e', 'i', 'o', 'u')의 개수를 세는 함수를 작성하세요.\n",
    "text = input(\"영어 소문자 입력\")\n",
    "list = ('a', 'e', 'i', 'o', 'u')\n",
    "def count_func(text):\n",
    "    count = 0\n",
    "    for txt in text:\n",
    "        for i in list:\n",
    "            if txt == i:\n",
    "                count += 1\n",
    "    return count\n",
    "count_func(text)"
   ]
  },
  {
   "cell_type": "code",
   "execution_count": null,
   "metadata": {},
   "outputs": [
    {
     "data": {
      "text/plain": [
       "13.5"
      ]
     },
     "execution_count": 27,
     "metadata": {},
     "output_type": "execute_result"
    }
   ],
   "source": [
    "# 문제 3:\n",
    "# 리스트를 입력받아, 리스트에 있는 숫자의 평균을 계산하는 함수를 작성하세요.\n",
    "avg_num = 0\n",
    "def number_avg(avg_num):\n",
    "    a = True\n",
    "    num_list = []\n",
    "    sum = 0\n",
    "    while a:\n",
    "        avg_num = int(input(\"숫자 입력\"))\n",
    "        if avg_num == 000:\n",
    "            a = False\n",
    "        else:\n",
    "            num_list.append(avg_num)\n",
    "            sum += avg_num\n",
    "            avg_number = sum/len(num_list)\n",
    "    return avg_number\n",
    "number_avg(avg_num)\n"
   ]
  },
  {
   "cell_type": "code",
   "execution_count": null,
   "metadata": {},
   "outputs": [
    {
     "name": "stdout",
     "output_type": "stream",
     "text": [
      "s\n",
      "11 :  s\n",
      "count :  2\n",
      "11 :  s\n",
      "count :  3\n",
      "11 :  r\n",
      "11 :  i\n",
      "11 :  n\n",
      "11 :  g\n",
      "s\n",
      "11 :  s\n",
      "count :  2\n",
      "11 :  s\n",
      "count :  3\n",
      "11 :  r\n",
      "11 :  i\n",
      "11 :  n\n",
      "11 :  g\n",
      "r\n",
      "11 :  s\n",
      "11 :  s\n",
      "11 :  r\n",
      "count :  2\n",
      "11 :  i\n",
      "11 :  n\n",
      "11 :  g\n",
      "i\n",
      "11 :  s\n",
      "11 :  s\n",
      "11 :  r\n",
      "11 :  i\n",
      "count :  2\n",
      "11 :  n\n",
      "11 :  g\n",
      "n\n",
      "11 :  s\n",
      "11 :  s\n",
      "11 :  r\n",
      "11 :  i\n",
      "11 :  n\n",
      "count :  2\n",
      "11 :  g\n",
      "g\n",
      "11 :  s\n",
      "11 :  s\n",
      "11 :  r\n",
      "11 :  i\n",
      "11 :  n\n",
      "11 :  g\n",
      "count :  2\n"
     ]
    }
   ],
   "source": [
    "# 문제 4:\n",
    "# 두 개의 문자열을 입력받아, 두 문자열이 애너그램(Anagram, 철자 순서만 다른 단어)인지 확인하는 함수를 작성하세요.\n",
    "input_a = input(\"첫번째 문자열 입력\")\n",
    "# input_b = input(\"두번째 문자열 입력\")\n",
    "\n",
    "        \n",
    "    \n"
   ]
  },
  {
   "cell_type": "code",
   "execution_count": null,
   "metadata": {},
   "outputs": [],
   "source": [
    "# 문제 5:\n",
    "# 정수 N을 입력받아, 1부터 N까지의 숫자 중 3의 배수와 5의 배수를 모두 출력하는 함수를 작성하세요."
   ]
  }
 ],
 "metadata": {
  "kernelspec": {
   "display_name": ".venv",
   "language": "python",
   "name": "python3"
  },
  "language_info": {
   "codemirror_mode": {
    "name": "ipython",
    "version": 3
   },
   "file_extension": ".py",
   "mimetype": "text/x-python",
   "name": "python",
   "nbconvert_exporter": "python",
   "pygments_lexer": "ipython3",
   "version": "3.12.8"
  }
 },
 "nbformat": 4,
 "nbformat_minor": 2
}
