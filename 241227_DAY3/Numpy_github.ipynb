{
 "cells": [
  {
   "cell_type": "markdown",
   "metadata": {},
   "source": [
    "# Numpy 함수"
   ]
  },
  {
   "cell_type": "markdown",
   "metadata": {},
   "source": [
    "* numpy는 파이썬에서 과학 계산을 위한 필수 라이브러리.\n",
    "* 대규모 다차원 배열과 행렬 연산을 효율적으로 처리하는 기능을 제공하여 데이터 분석에서 널리 사용."
   ]
  },
  {
   "cell_type": "markdown",
   "metadata": {},
   "source": [
    "### 특징\n",
    "|특징|설명|\n",
    "|:---:|:---:|\n",
    "|벡터화 연산 | 모델의 성능을 수치로 표현하여 객관적으로 비교 가능.|\n",
    "|다양한 수학 함수 | 삼각 함수, 지수 함수, 통계 함수 등 다양한 수학 함수를 제공.|\n",
    "|배열 생성 및 조작 | 다양한 방법으로 배열을 생성하고, shape을 변경하거나 원하는 요소를 추출.|\n",
    "|선형대수 연산 | 행렬 곱, 역행렬, 고유값 분해 등 선형대수 연산을 지원.|\n"
   ]
  },
  {
   "cell_type": "markdown",
   "metadata": {},
   "source": [
    "### Numpy 함수 예시\n",
    "|함수|설명|예시|\n",
    "|:---:|:---:|:---:|\n",
    "|np.array()|리스트를 Numpy 배열로 변환|import numpy as np <br/> arr = np.array([1,2,3]) <br/> arr |\n",
    "|np.arange()|주어진 범위 내에서 일정한 간격의 값을 가지는 배열 생성| # arange( 시작값, 종료값, 건너뛰기 )<br/>arr = np.arange(0,10,2)&nbsp; # 2씩 증가|\n",
    "|np.random.rand()|0과 1사이의 균일 분포를 따르는 난수 생성|# np.random : 난수생성, rand : 0~1난수 <br/>arr = np.random.rand(2,3)|\n",
    "|np.reshape|배열의 shape 변경|arr = arr.reshape(1,9)|\n",
    "|np.sum()|배열 요소의 합|np.sum([1,2,3])&nbsp;&nbsp;# 출력값 : 6|\n",
    "|np.mean()|배열 요소의 평균|np.mean([1,2,3])&nbsp;&nbsp;# 출력값 : 2|\n",
    "|np.std()|배열 요소의 표준편차 계산|np.std([1,2,3])&nbsp;&nbsp;# 출력값 : 0.816"
   ]
  },
  {
   "cell_type": "markdown",
   "metadata": {},
   "source": [
    "### 분산과 표준편차 예시\n",
    "<table>\n",
    "    <tr>\n",
    "        <th>구분</th>\n",
    "        <th>1번</th>\n",
    "        <th>2번</th>\n",
    "        <th>3번</th>\n",
    "        <th>4번</th>\n",
    "        <th>5번</th>\n",
    "    </tr>\n",
    "    <tr>\n",
    "        <td>변량</td>\n",
    "        <td>175</td>\n",
    "        <td>177</td>\n",
    "        <td>179</td>\n",
    "        <td>181</td>\n",
    "        <td>183</td>\n",
    "    </tr>\n",
    "    <tr>\n",
    "        <td>평균</td>\n",
    "        <td colspan=\"5\">(175 + 177 + 179 + 181 + 183) / 5 = 179</td>\n",
    "    </tr>\n",
    "    <tr>\n",
    "        <td>편차<br/>(변량-평균)</td>\n",
    "        <td>175 - 179<br/>= -4</td>\n",
    "        <td>177 - 179<br/>= -2</td>\n",
    "        <td>179 - 179<br/>= 0</td>\n",
    "        <td>181 - 179<br/>= 2</td>\n",
    "        <td>183 - 179<br/>= 4</td>\n",
    "    </tr>\n",
    "    <tr>\n",
    "        <td>편차제곱</td>\n",
    "        <td>(-4)² = 16</td>\n",
    "        <td>(-2)² = 4</td>\n",
    "        <td>0</td>\n",
    "        <td>2² = 4</td>\n",
    "        <td>4² = 16</td>\n",
    "    </tr>\n",
    "    <tr>\n",
    "        <td>분산</td>\n",
    "        <td colspan=\"5\">(16 + 4 + 0 + 4 + 16) / 5 = 40 / 5 = 8</td>\n",
    "    </tr>\n",
    "    <tr>\n",
    "        <td>표준편차</td>\n",
    "        <td colspan=\"5\">√8 = 2.828</td>\n",
    "    </tr>\n",
    "</table>"
   ]
  },
  {
   "cell_type": "markdown",
   "metadata": {},
   "source": [
    "# Pandas"
   ]
  },
  {
   "cell_type": "markdown",
   "metadata": {},
   "source": [
    "* Numpy를 기반으로 하여, 표 형태의 데이터를 효율적으로 처리하고 분석할 수 있는 다양한 함수와 자료 구조를 제공.\n",
    "* Series (1차원 배열과 유사하며, 각 요소에 인덱스 부여), DataFrame (표 형태의 2차원 데이터를 나타내며, 행과 열로 구성.)"
   ]
  },
  {
   "cell_type": "markdown",
   "metadata": {},
   "source": [
    "* CSV (comma-separated values) : 몇 가지 필드를 쉼표(,)로 구분한 텍스트 데이터 및 텍스트 파일이다."
   ]
  },
  {
   "cell_type": "markdown",
   "metadata": {},
   "source": [
    "### 특징\n",
    "|특징|설명|\n",
    "|:---:|:---:|\n",
    "|데이터 읽기/쓰기|다양한 형식의 데이터 ( CSV, Excel, SQL 등 ) 를 읽고 쓸 수 있음|\n",
    "|데이터 선택 및 필터링|원하는 데이터를 선택하고 조건에 맞는 데이터를 추출할 수 있음|\n",
    "|데이터 변형|데이터를 정렬, 그룹화, 평균 등 다양한 방식으로 변형할 수 있음|\n",
    "|결측치 처리|결측치를 찾고 처리하는 다양한 방법을 제공|\n",
    "|데이터 시각화|Matplotlib와 연동하여 데이터를 시각화할 수 있음|"
   ]
  },
  {
   "cell_type": "markdown",
   "metadata": {},
   "source": [
    "### Pandas 함수 예시\n",
    "|함수|설명|예시|\n",
    "|:---:|:---:|:---:|\n",
    "|read_csv()|CSV 파일 읽기|df = pd.read_csv('data.csv')|\n",
    "|head(), tail()|데이터프레임의 처음 또는 마지막 부분 확인|df.head(), df.tail()|\n",
    "|shape|데이터프레임의 행과 열 개수 확인|df.shape|\n",
    "|info()|데이터프레임의 요약 정보 확인|df.info()|\n",
    "|describe()|데이터프레임의 기본적인 통계 정보 확인|df.describe()|\n",
    "|loc[], iloc[]|데이터 선택|df.loc['index_name'], df.iloc[0]|\n",
    "|groupby| 데이터 그룹화 | df.groupby('column_name').mean()|\n",
    "|sort_values()|데이터 정렬|df.sort_values('column_name')|\n",
    "|fillna()|결측치 체우기|df.fillna(0)|\n",
    "|dropna()|결측치 행 삭제|df.dropna()|\n"
   ]
  },
  {
   "cell_type": "markdown",
   "metadata": {},
   "source": [
    "* 결측치 : 데이터에서 값이 누락되었거나 비어 있는 상태를 의미합니다.\n",
    "* 처리 방법 : \n",
    "    1. 삭제 : 결측치가 적은 경우 행 또는 열을 제거.\n",
    "    2. 대체 : 평균, 중앙값, 최빈값 등으로 결측치를 채움.\n",
    "    3. 예측 모델 사용 : 머선러닝 알고리즘으로 결측값 예측 후 대체."
   ]
  },
  {
   "cell_type": "markdown",
   "metadata": {},
   "source": [
    "# Matplotlib"
   ]
  },
  {
   "cell_type": "markdown",
   "metadata": {},
   "source": [
    "* 다양한 종류의 그래프를 생성하여 데이터를 시각적으로 표현.\n",
    "* 데이터 분석 과정에서 얻은 결과를 효과적으로 전달하는 데 사용."
   ]
  },
  {
   "cell_type": "markdown",
   "metadata": {},
   "source": [
    "### 특징\n",
    "|특징|설명|\n",
    "|:---:|:---:|\n",
    "|유연성|다양한 종류의 그래프를 생성할 수 있으며, 그래프의 스타일, 크기, 색상 등을 자유롭계 조절할 수 있음.|\n",
    "|확장성|다양한 서드파티 라이브러리와 연동하여 더욱 복잡하고 정교한 시각화를 구현할 수 있음.|\n",
    "|객체 지향 인터페이스|그래프의 각 요소(축, 선, 점 등)를 객체로 다루어 세밀하게 조작할 수 있음.|"
   ]
  },
  {
   "cell_type": "markdown",
   "metadata": {},
   "source": [
    "### Matplotlib 함수 예시\n",
    "|함수|설명|에시|\n",
    "|:---:|:---|:---|\n",
    "|plt.plot()|선 그래프 생성|plt.plot(x, y)|\n",
    "|plt.scatter()|산점도 생성|plt.scatter(x,y)|\n",
    "|plt.bar()|막대 그래프 생성|plt.bar(x, height)|\n",
    "|plt.hist()|히스토그램 생성|plt.hist(data, bins=20)|\n",
    "|plt.boxplot()|상자 그림 생성|plt.boxplot(data)|\n",
    "|plt.pie()|원 그래프 생성|plt.pie(x)|\n",
    "|plt.subplot()|여러 개의 그래프를 하나의 Figure에 배치|plt.subplot(2,2,1)|\n",
    "|plt.xlabel()|x축 레이블 설정|plt.xlabel('X축 이름')|\n",
    "|plt.ylabel()|y축 레이블 설정|plt.ylabel('Y축 이름')|\n",
    "|plt.title()|그래프 제목 설정|plt.title('그래프 제목')|\n",
    "|plt.legend()|범례 설정|plt.legend()|\n",
    "|plt.show()|그래프 출력|plt.show()|"
   ]
  },
  {
   "cell_type": "markdown",
   "metadata": {},
   "source": [
    "* 범례 : 지도, 그래프, 도표 등에 사용된 기호, 색상, 선의 의미를 설명한 표를 가리킵니다.\n",
    "*        예 : 지도에서 파란색은 강, 초록색은 숲을 나타낸다는 것을 설명하는 부분."
   ]
  },
  {
   "cell_type": "markdown",
   "metadata": {},
   "source": [
    "# Seaborn"
   ]
  },
  {
   "cell_type": "markdown",
   "metadata": {},
   "source": [
    "* Matplotlib을 기반으로 개발된 파이썬 시각화 라이브러리.\n",
    "* 통계적 시각화를 위한 고급 인터페이스를 제공, Matplotlib보다 더욱 세련되고 통계적인 시각화를 쉽게 만들 수 있다는 장점."
   ]
  },
  {
   "cell_type": "markdown",
   "metadata": {},
   "source": [
    "### 특징\n",
    "|특징|설명|\n",
    "|:---:|:---|\n",
    "|고급 인터페이스|Matplotlib의 복잡한 설정 없이 간결한 코드로 다양한 시각화를 생성할 수 있음.|\n",
    "|통계적인 시각화|데이터 분포, 상관관계, 회귀 분석 등 통계적인 개념을 시각화하는데 특화됨.|\n",
    "|매력적인 스타일|기본적으로 제공하는 다양한 스타일 테마를 통해 시각적으로 매력적인 그래프를 생성할 수 있음|\n",
    "|Seaborn과 Pandas의 원활한 통합|Pandas DataFrame을 직접 입력하여 시각화를 수행할 수 있음|"
   ]
  },
  {
   "cell_type": "markdown",
   "metadata": {},
   "source": [
    "### Seaborn 함수 예시\n",
    "|함수|설명|예시|\n",
    "|:---:|:---:|:---:|\n",
    "|sns.distplot()|히스토그램과 커널 밀도 추정을 함께 표현|sns.distplot(data.kde=True)|\n",
    "|sns.boxplot()|상자 그림 생성|sns.boxplot(x='category', y='value', data=df)|\n",
    "|sns.violinplot()|바이올린 플롯 생성|sns.violinplot(x='category', y='value', data=df)|\n",
    "|sns.scatterplot()|산점도 생성|sns.scatterplot(x='x', y='y', data=df)|\n",
    "|sns.pairplot()|여러 변수 간의 관계를 한 번에 시각화|sns.pairplot(df)|\n",
    "|sns.heatmap()|히트맵 생성|sns.heatmap(corr_matrix)|\n",
    "|sns.Implot()|선형 회귀 모델 시각화|sns.Implot(x='x', y='y', data=df)|"
   ]
  },
  {
   "cell_type": "markdown",
   "metadata": {},
   "source": [
    "* 동립 변수 & 종속 변수\n",
    "        동립 변수 ( Independent Variable )\n",
    "        원인이나 입력 역할을 합니다.\n",
    "        변경하거나 조작할 수 있는 변수입니다.\n",
    "* 종속 변수 ( Dependent Variable )\n",
    "        결과나 출력 역할을 합니다.\n",
    "        동립 변수에 따라 변하는 변수입니다.\n",
    "\n",
    "* 예제1 : 공부 시간과 시험 점수\n",
    "        동립 변수 : 공부 시간(내가 조절할 수 있는 변수)\n",
    "        종속 변수 : 시험 점수(공부 시간에 따라 달라지는 결과)"
   ]
  },
  {
   "cell_type": "markdown",
   "metadata": {},
   "source": []
  }
 ],
 "metadata": {
  "kernelspec": {
   "display_name": ".venv",
   "language": "python",
   "name": "python3"
  },
  "language_info": {
   "name": "python",
   "version": "3.12.8"
  }
 },
 "nbformat": 4,
 "nbformat_minor": 2
}
