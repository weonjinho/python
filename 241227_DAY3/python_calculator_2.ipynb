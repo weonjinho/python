{
 "cells": [
  {
   "cell_type": "code",
   "execution_count": 4,
   "metadata": {},
   "outputs": [],
   "source": [
    "import tkinter\n",
    "from tkinter import *\n",
    "root = Tk()\n",
    "\n",
    "b1 = Button(root, text = \"1\", width=10)\n",
    "b2 = Button(root, text = \"2\", width=10)\n",
    "b3 = Button(root, text = \"3\", width=10)\n",
    "b4 = Button(root, text = \"4\", width=10)\n",
    "b5 = Button(root, text = \"5\", width=10)\n",
    "b6 = Button(root, text = \"6\", width=10)\n",
    "b7 = Button(root, text = \"7\", width=10)\n",
    "b8 = Button(root, text = \"8\", width=10)\n",
    "b9 = Button(root, text = \"9\", width=10)\n",
    "b0 = Button(root, text = \"0\", width=10)\n",
    "\n",
    "b7.pack()\n",
    "b8.pack()\n",
    "b9.pack()\n",
    "\n",
    "b4.pack()\n",
    "b5.pack()\n",
    "b6.pack()\n",
    "\n",
    "b1.pack()\n",
    "b2.pack()\n",
    "b3.pack()\n",
    "\n",
    "b0.pack()\n",
    "\n",
    "def btn_click(event):\n",
    "    a = int(b1)\n",
    "    print(\"클릭\")\n",
    "    \n",
    "b1.bind('<Button-1>', btn_click)\n",
    "\n",
    "\n",
    "\n",
    "\n",
    "\n",
    "\n",
    "\n",
    "\n",
    "\n",
    "\n",
    "root.mainloop()"
   ]
  }
 ],
 "metadata": {
  "kernelspec": {
   "display_name": ".venv",
   "language": "python",
   "name": "python3"
  },
  "language_info": {
   "codemirror_mode": {
    "name": "ipython",
    "version": 3
   },
   "file_extension": ".py",
   "mimetype": "text/x-python",
   "name": "python",
   "nbconvert_exporter": "python",
   "pygments_lexer": "ipython3",
   "version": "3.12.8"
  }
 },
 "nbformat": 4,
 "nbformat_minor": 2
}
