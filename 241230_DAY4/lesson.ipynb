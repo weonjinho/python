{
 "cells": [
  {
   "cell_type": "code",
   "execution_count": 2,
   "metadata": {},
   "outputs": [],
   "source": [
    "# with문 많이 사용 ***\n",
    "# 컨택스트 매니저 : 특정작업의 시작과 종료를 관리하는 도우미.\n",
    "\n",
    "with open('../dataset/human.txt','w', encoding=\"utf-8\") as f:\n",
    "    f.write('안녕하세요 홍길동입니다.\\n')\n",
    "    f.write('파이썬 with문 예시입니다.\\n')\n",
    "    "
   ]
  },
  {
   "cell_type": "code",
   "execution_count": 3,
   "metadata": {},
   "outputs": [],
   "source": [
    "# 클리스 정의 및 특징\n",
    "\n",
    "# 생성자 --- _init_ 메소드.\n",
    "# 갭슐화 --- 비공개 속성\n",
    "# 상속 --- 기존 클래스를 상속받아서 새로운 클래스를 생성할 수 있음."
   ]
  },
  {
   "cell_type": "code",
   "execution_count": 11,
   "metadata": {},
   "outputs": [
    {
     "name": "stdout",
     "output_type": "stream",
     "text": [
      "멍멍이가 짖습니다!\n"
     ]
    }
   ],
   "source": [
    "# 예제\n",
    "class Dog:\n",
    "    def __init__(self,name):\n",
    "        self.name = name\n",
    "        \n",
    "    def bark(self):\n",
    "        print(f\"{self.name}가 짖습니다!\")\n",
    "        \n",
    "# 객체 생성\n",
    "my_dog = Dog(\"멍멍이\")\n",
    "my_dog.bark()"
   ]
  },
  {
   "cell_type": "code",
   "execution_count": 12,
   "metadata": {},
   "outputs": [
    {
     "name": "stdout",
     "output_type": "stream",
     "text": [
      "나비\n",
      "나비\n",
      "미야\n",
      "미야\n"
     ]
    }
   ],
   "source": [
    "class Animal:\n",
    "    def __init__(self,name):\n",
    "        self.name = name\n",
    "    \n",
    "    def speak(self):\n",
    "        pass\n",
    "    \n",
    "class Cat(Animal):\n",
    "    def speak(self):\n",
    "        return f\"{self.name}\"\n",
    "    \n",
    "    \n",
    "    \n",
    "cat1 = Cat(\"나비\")\n",
    "print(cat1.name)\n",
    "print(cat1.speak())\n",
    "\n",
    "cat2 = Cat(\"미야\")\n",
    "print(cat2.name)\n",
    "print(cat2.speak())"
   ]
  },
  {
   "cell_type": "code",
   "execution_count": 16,
   "metadata": {},
   "outputs": [
    {
     "name": "stdout",
     "output_type": "stream",
     "text": [
      "1000\n"
     ]
    }
   ],
   "source": [
    "# 클래스 캡슐화\n",
    "class BankAccount:\n",
    "    def __init__(self):\n",
    "        self.__balance = 0\n",
    "        \n",
    "    def deposit(self, amount):\n",
    "        if amount > 0:\n",
    "            self.__balance += amount\n",
    "            \n",
    "    def get_balance(self):\n",
    "        return self.__balance\n",
    "    \n",
    "account = BankAccount()\n",
    "account.deposit(1000)\n",
    "print(account.get_balance()) # 출력 : 1000\n",
    "# print(account._balance) # 오류 발생 : 직접 접근 불가"
   ]
  },
  {
   "cell_type": "code",
   "execution_count": 18,
   "metadata": {},
   "outputs": [
    {
     "name": "stdout",
     "output_type": "stream",
     "text": [
      "파이썬 고등학교\n",
      "파이썬 고등학교\n",
      "파이썬 고등학교\n",
      "2\n"
     ]
    }
   ],
   "source": [
    "# 클래스 변수와 인스턴스 변수 예제\n",
    "class Student:\n",
    "    school_name = \"파이썬 고등학교\"     # 클래스 변수 (전역변수)\n",
    "    student_count = 0\n",
    "    \n",
    "    def __init__(self, name):\n",
    "        self.name = name    # 인스턴스 변수(지역변수)\n",
    "        Student.student_count += 1\n",
    "        \n",
    "student1 = Student(\"김철수\")\n",
    "student2 = Student(\"이영희\")\n",
    "\n",
    "print(Student.school_name)\n",
    "print(student1.school_name)\n",
    "print(student2.school_name)\n",
    "print(Student.student_count)\n",
    "\n"
   ]
  },
  {
   "cell_type": "code",
   "execution_count": 21,
   "metadata": {},
   "outputs": [
    {
     "name": "stdout",
     "output_type": "stream",
     "text": [
      "계산기를 초기화합니다.\n",
      "덧셈 결과 :  30\n",
      "곱셈 결과 :  200\n"
     ]
    }
   ],
   "source": [
    "# 계산기 클래스 예제\n",
    "class Calculator:\n",
    "    # 초기화 메소드 : 아무 상태 없이 계산만 수행\n",
    "    def __init__(self):\n",
    "        print(\"계산기를 초기화합니다.\")\n",
    "        \n",
    "    # 두 숫자를 더하는 메소드\n",
    "    def add(self, a, b):\n",
    "        return a + b\n",
    "    \n",
    "    # 두 숫자를 곱하는 메소드\n",
    "    def multiply(self, a, b ):\n",
    "        return a * b\n",
    "    \n",
    "# 객체 생성 및 메소드 호출\n",
    "calc = Calculator() # 출력 : 게산기를 초기화합니다.\n",
    "print(\"덧셈 결과 : \", calc.add(10,20)) # 출력 : 덧셈 결과 : 30\n",
    "print(\"곱셈 결과 : \", calc.multiply(10,20)) # 출력 : 곱셈 결과 : 200\n",
    "\n",
    "\n",
    "\n"
   ]
  },
  {
   "cell_type": "code",
   "execution_count": 28,
   "metadata": {},
   "outputs": [
    {
     "name": "stdout",
     "output_type": "stream",
     "text": [
      "이름 : 홍길동, 나이 : 16\n",
      "이름 : 김철수, 나이 : 18\n"
     ]
    }
   ],
   "source": [
    "# 학생정보 관리 클래스 예제\n",
    "class Student:\n",
    "    # 생성자 : 학생 이름과 나이를 초기화\n",
    "    def __init__(self, name, age):\n",
    "        self.name = name\n",
    "        self.age = age\n",
    "    \n",
    "    # 학생 정보 출력 메소드\n",
    "    def display_info(self):\n",
    "        print(f\"이름 : {self.name}, 나이 : {self.age}\")\n",
    "        \n",
    "# 객체 생성 및 메소드 호출\n",
    "student1 = Student(\"홍길동\", 16)\n",
    "student2 = Student(\"김철수\", 18)\n",
    "\n",
    "student1.display_info()\n",
    "student2.display_info()\n"
   ]
  },
  {
   "cell_type": "code",
   "execution_count": 23,
   "metadata": {},
   "outputs": [],
   "source": [
    "# 패턴을 잘 이해해야한다. *****"
   ]
  },
  {
   "cell_type": "code",
   "execution_count": 29,
   "metadata": {},
   "outputs": [
    {
     "name": "stdout",
     "output_type": "stream",
     "text": [
      "어벤져스영와의 할인된 가격 : 10000원\n"
     ]
    }
   ],
   "source": [
    "# 영와 티켓 할인 관리 클래스 예제\n",
    "class MovieTicket:\n",
    "    # 생성자 : 영화 제목과 기본 티켓 가격 초기화\n",
    "    def __init__(self,title, price):\n",
    "        self.title = title\n",
    "        self.price = price\n",
    "        \n",
    "    # 할인 적용 메소드\n",
    "    def apply_discount(self, discount):\n",
    "        self.price -= discount\n",
    "        print(f\"{self.title}영와의 할인된 가격 : {self.price}원\")\n",
    "        \n",
    "# 객체 생성 및 메소드 호출\n",
    "ticket = MovieTicket(\"어벤져스\", 12000)\n",
    "ticket.apply_discount(2000)"
   ]
  },
  {
   "cell_type": "code",
   "execution_count": 38,
   "metadata": {},
   "outputs": [
    {
     "name": "stdout",
     "output_type": "stream",
     "text": [
      "5000원이 입급되었습니다. 현재 잔액:15000원\n",
      "2000원이 출금되었습니다. 현재 잔액 : 13000원\n",
      "잔액이 부족합니다.\n"
     ]
    }
   ],
   "source": [
    "# 간단한 은행 계좌 클래스\n",
    "class BankAccount:\n",
    "    def __init__(self, owner, balance = 0):\n",
    "        self.owner = owner\n",
    "        self.balance = balance\n",
    "    \n",
    "    # 입금\n",
    "    def deposit(self, amount):\n",
    "        self.balance += amount\n",
    "        print(f\"{amount}원이 입급되었습니다. 현재 잔액:{self.balance}원\")\n",
    "        \n",
    "    # 출금\n",
    "    def withdraw(self, amount):\n",
    "        if amount > self.balance:\n",
    "            print(\"잔액이 부족합니다.\")\n",
    "        else:\n",
    "            self.balance -= amount\n",
    "            print(f\"{amount}원이 출금되었습니다. 현재 잔액 : {self.balance}원\")\n",
    "            \n",
    "# 사용 예시\n",
    "account = BankAccount(\"홍길동\", 10000)\n",
    "account.deposit(5000)\n",
    "account.withdraw(2000)\n",
    "account.withdraw(13001)"
   ]
  },
  {
   "cell_type": "code",
   "execution_count": null,
   "metadata": {},
   "outputs": [],
   "source": []
  }
 ],
 "metadata": {
  "kernelspec": {
   "display_name": ".venv",
   "language": "python",
   "name": "python3"
  },
  "language_info": {
   "codemirror_mode": {
    "name": "ipython",
    "version": 3
   },
   "file_extension": ".py",
   "mimetype": "text/x-python",
   "name": "python",
   "nbconvert_exporter": "python",
   "pygments_lexer": "ipython3",
   "version": "3.12.8"
  }
 },
 "nbformat": 4,
 "nbformat_minor": 2
}
